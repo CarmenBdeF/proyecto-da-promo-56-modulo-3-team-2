{
 "cells": [
  {
   "cell_type": "markdown",
   "id": "137424ce",
   "metadata": {},
   "source": [
    "### Limpieza conjunta"
   ]
  },
  {
   "cell_type": "code",
   "execution_count": 1,
   "id": "077dc7a9",
   "metadata": {},
   "outputs": [],
   "source": [
    "#IMPORTANDO LIBRERIAS NECESARIAS\n",
    "import numpy as np\n",
    "import pandas as pd\n",
    "pd.set_option('display.max_columns', None)"
   ]
  },
  {
   "cell_type": "code",
   "execution_count": 2,
   "id": "7fc84756",
   "metadata": {},
   "outputs": [
    {
     "data": {
      "text/html": [
       "<div>\n",
       "<style scoped>\n",
       "    .dataframe tbody tr th:only-of-type {\n",
       "        vertical-align: middle;\n",
       "    }\n",
       "\n",
       "    .dataframe tbody tr th {\n",
       "        vertical-align: top;\n",
       "    }\n",
       "\n",
       "    .dataframe thead th {\n",
       "        text-align: right;\n",
       "    }\n",
       "</style>\n",
       "<table border=\"1\" class=\"dataframe\">\n",
       "  <thead>\n",
       "    <tr style=\"text-align: right;\">\n",
       "      <th></th>\n",
       "      <th>age</th>\n",
       "      <th>attrition</th>\n",
       "      <th>businesstravel</th>\n",
       "      <th>dailyrate</th>\n",
       "      <th>department</th>\n",
       "      <th>distancefromhome</th>\n",
       "      <th>education</th>\n",
       "      <th>educationfield</th>\n",
       "      <th>employeecount</th>\n",
       "      <th>employeenumber</th>\n",
       "      <th>environmentsatisfaction</th>\n",
       "      <th>gender</th>\n",
       "      <th>hourlyrate</th>\n",
       "      <th>jobinvolvement</th>\n",
       "      <th>joblevel</th>\n",
       "      <th>jobrole</th>\n",
       "      <th>jobsatisfaction</th>\n",
       "      <th>maritalstatus</th>\n",
       "      <th>monthlyincome</th>\n",
       "      <th>monthlyrate</th>\n",
       "      <th>numcompaniesworked</th>\n",
       "      <th>over18</th>\n",
       "      <th>overtime</th>\n",
       "      <th>percentsalaryhike</th>\n",
       "      <th>performancerating</th>\n",
       "      <th>relationshipsatisfaction</th>\n",
       "      <th>standardhours</th>\n",
       "      <th>stockoptionlevel</th>\n",
       "      <th>totalworkingyears</th>\n",
       "      <th>trainingtimeslastyear</th>\n",
       "      <th>worklifebalance</th>\n",
       "      <th>yearsatcompany</th>\n",
       "      <th>yearsincurrentrole</th>\n",
       "      <th>yearssincelastpromotion</th>\n",
       "      <th>yearswithcurrmanager</th>\n",
       "      <th>sameasmonthlyincome</th>\n",
       "      <th>datebirth</th>\n",
       "      <th>salary</th>\n",
       "      <th>roledepartament</th>\n",
       "      <th>numberchildren</th>\n",
       "      <th>remotework</th>\n",
       "    </tr>\n",
       "  </thead>\n",
       "  <tbody>\n",
       "    <tr>\n",
       "      <th>0</th>\n",
       "      <td>51</td>\n",
       "      <td>No</td>\n",
       "      <td>NaN</td>\n",
       "      <td>2015.722222</td>\n",
       "      <td>NaN</td>\n",
       "      <td>6</td>\n",
       "      <td>3</td>\n",
       "      <td>NaN</td>\n",
       "      <td>1</td>\n",
       "      <td>1</td>\n",
       "      <td>1</td>\n",
       "      <td>0</td>\n",
       "      <td>NaN</td>\n",
       "      <td>3</td>\n",
       "      <td>5</td>\n",
       "      <td>resEArch DIREcToR</td>\n",
       "      <td>3</td>\n",
       "      <td>NaN</td>\n",
       "      <td>16280,83$</td>\n",
       "      <td>42330,17$</td>\n",
       "      <td>7</td>\n",
       "      <td>Y</td>\n",
       "      <td>No</td>\n",
       "      <td>13</td>\n",
       "      <td>3,0</td>\n",
       "      <td>3</td>\n",
       "      <td>Full Time</td>\n",
       "      <td>0</td>\n",
       "      <td>NaN</td>\n",
       "      <td>5</td>\n",
       "      <td>3,0</td>\n",
       "      <td>20</td>\n",
       "      <td>NaN</td>\n",
       "      <td>15</td>\n",
       "      <td>15</td>\n",
       "      <td>16280,83$</td>\n",
       "      <td>1972</td>\n",
       "      <td>195370,00$</td>\n",
       "      <td>NaN</td>\n",
       "      <td>NaN</td>\n",
       "      <td>Yes</td>\n",
       "    </tr>\n",
       "    <tr>\n",
       "      <th>1</th>\n",
       "      <td>52</td>\n",
       "      <td>No</td>\n",
       "      <td>NaN</td>\n",
       "      <td>2063.388889</td>\n",
       "      <td>NaN</td>\n",
       "      <td>1</td>\n",
       "      <td>4</td>\n",
       "      <td>Life Sciences</td>\n",
       "      <td>1</td>\n",
       "      <td>2</td>\n",
       "      <td>3</td>\n",
       "      <td>0</td>\n",
       "      <td>NaN</td>\n",
       "      <td>2</td>\n",
       "      <td>5</td>\n",
       "      <td>ManAGeR</td>\n",
       "      <td>3</td>\n",
       "      <td>NaN</td>\n",
       "      <td>NaN</td>\n",
       "      <td>43331,17$</td>\n",
       "      <td>0</td>\n",
       "      <td>NaN</td>\n",
       "      <td>NaN</td>\n",
       "      <td>14</td>\n",
       "      <td>3,0</td>\n",
       "      <td>1</td>\n",
       "      <td>NaN</td>\n",
       "      <td>1</td>\n",
       "      <td>34,0</td>\n",
       "      <td>5</td>\n",
       "      <td>3,0</td>\n",
       "      <td>33</td>\n",
       "      <td>NaN</td>\n",
       "      <td>11</td>\n",
       "      <td>9</td>\n",
       "      <td>NaN</td>\n",
       "      <td>1971</td>\n",
       "      <td>199990,00$</td>\n",
       "      <td>NaN</td>\n",
       "      <td>NaN</td>\n",
       "      <td>1</td>\n",
       "    </tr>\n",
       "    <tr>\n",
       "      <th>2</th>\n",
       "      <td>42</td>\n",
       "      <td>No</td>\n",
       "      <td>travel_rarely</td>\n",
       "      <td>1984.253968</td>\n",
       "      <td>Research &amp; Development</td>\n",
       "      <td>4</td>\n",
       "      <td>2</td>\n",
       "      <td>Technical Degree</td>\n",
       "      <td>1</td>\n",
       "      <td>3</td>\n",
       "      <td>3</td>\n",
       "      <td>0</td>\n",
       "      <td>NaN</td>\n",
       "      <td>3</td>\n",
       "      <td>5</td>\n",
       "      <td>ManaGER</td>\n",
       "      <td>4</td>\n",
       "      <td>Married</td>\n",
       "      <td>NaN</td>\n",
       "      <td>41669,33$</td>\n",
       "      <td>1</td>\n",
       "      <td>NaN</td>\n",
       "      <td>No</td>\n",
       "      <td>11</td>\n",
       "      <td>3,0</td>\n",
       "      <td>4</td>\n",
       "      <td>NaN</td>\n",
       "      <td>0</td>\n",
       "      <td>22,0</td>\n",
       "      <td>3</td>\n",
       "      <td>NaN</td>\n",
       "      <td>22</td>\n",
       "      <td>NaN</td>\n",
       "      <td>11</td>\n",
       "      <td>15</td>\n",
       "      <td>NaN</td>\n",
       "      <td>1981</td>\n",
       "      <td>192320,00$</td>\n",
       "      <td>ManaGER  -  Research &amp; Development</td>\n",
       "      <td>NaN</td>\n",
       "      <td>1</td>\n",
       "    </tr>\n",
       "    <tr>\n",
       "      <th>3</th>\n",
       "      <td>47</td>\n",
       "      <td>No</td>\n",
       "      <td>travel_rarely</td>\n",
       "      <td>1771.404762</td>\n",
       "      <td>NaN</td>\n",
       "      <td>2</td>\n",
       "      <td>4</td>\n",
       "      <td>Medical</td>\n",
       "      <td>1</td>\n",
       "      <td>4</td>\n",
       "      <td>1</td>\n",
       "      <td>1</td>\n",
       "      <td>NaN</td>\n",
       "      <td>3</td>\n",
       "      <td>4</td>\n",
       "      <td>ReseArCH DIrECtOr</td>\n",
       "      <td>3</td>\n",
       "      <td>Married</td>\n",
       "      <td>14307,50$</td>\n",
       "      <td>37199,50$</td>\n",
       "      <td>3</td>\n",
       "      <td>Y</td>\n",
       "      <td>NaN</td>\n",
       "      <td>19</td>\n",
       "      <td>3,0</td>\n",
       "      <td>2</td>\n",
       "      <td>Full Time</td>\n",
       "      <td>2</td>\n",
       "      <td>NaN</td>\n",
       "      <td>2</td>\n",
       "      <td>NaN</td>\n",
       "      <td>20</td>\n",
       "      <td>NaN</td>\n",
       "      <td>5</td>\n",
       "      <td>6</td>\n",
       "      <td>14307,50$</td>\n",
       "      <td>1976</td>\n",
       "      <td>171690,00$</td>\n",
       "      <td>NaN</td>\n",
       "      <td>NaN</td>\n",
       "      <td>False</td>\n",
       "    </tr>\n",
       "    <tr>\n",
       "      <th>4</th>\n",
       "      <td>46</td>\n",
       "      <td>No</td>\n",
       "      <td>NaN</td>\n",
       "      <td>1582.771346</td>\n",
       "      <td>NaN</td>\n",
       "      <td>3</td>\n",
       "      <td>3</td>\n",
       "      <td>Technical Degree</td>\n",
       "      <td>1</td>\n",
       "      <td>5</td>\n",
       "      <td>1</td>\n",
       "      <td>1</td>\n",
       "      <td>NaN</td>\n",
       "      <td>4</td>\n",
       "      <td>4</td>\n",
       "      <td>sAleS EXECUtIve</td>\n",
       "      <td>1</td>\n",
       "      <td>Divorced</td>\n",
       "      <td>12783,92$</td>\n",
       "      <td>33238,20$</td>\n",
       "      <td>2</td>\n",
       "      <td>Y</td>\n",
       "      <td>No</td>\n",
       "      <td>12</td>\n",
       "      <td>3,0</td>\n",
       "      <td>4</td>\n",
       "      <td>NaN</td>\n",
       "      <td>1</td>\n",
       "      <td>NaN</td>\n",
       "      <td>5</td>\n",
       "      <td>3,0</td>\n",
       "      <td>19</td>\n",
       "      <td>NaN</td>\n",
       "      <td>2</td>\n",
       "      <td>8</td>\n",
       "      <td>12783,92$</td>\n",
       "      <td>1977</td>\n",
       "      <td>NaN</td>\n",
       "      <td>NaN</td>\n",
       "      <td>NaN</td>\n",
       "      <td>0</td>\n",
       "    </tr>\n",
       "  </tbody>\n",
       "</table>\n",
       "</div>"
      ],
      "text/plain": [
       "  age attrition businesstravel    dailyrate                department  \\\n",
       "0  51        No            NaN  2015.722222                       NaN   \n",
       "1  52        No            NaN  2063.388889                       NaN   \n",
       "2  42        No  travel_rarely  1984.253968   Research & Development    \n",
       "3  47        No  travel_rarely  1771.404762                       NaN   \n",
       "4  46        No            NaN  1582.771346                       NaN   \n",
       "\n",
       "   distancefromhome  education    educationfield  employeecount  \\\n",
       "0                 6          3               NaN              1   \n",
       "1                 1          4     Life Sciences              1   \n",
       "2                 4          2  Technical Degree              1   \n",
       "3                 2          4           Medical              1   \n",
       "4                 3          3  Technical Degree              1   \n",
       "\n",
       "   employeenumber  environmentsatisfaction  gender  hourlyrate  \\\n",
       "0               1                        1       0         NaN   \n",
       "1               2                        3       0         NaN   \n",
       "2               3                        3       0         NaN   \n",
       "3               4                        1       1         NaN   \n",
       "4               5                        1       1         NaN   \n",
       "\n",
       "   jobinvolvement  joblevel              jobrole  jobsatisfaction  \\\n",
       "0               3         5   resEArch DIREcToR                 3   \n",
       "1               2         5             ManAGeR                 3   \n",
       "2               3         5             ManaGER                 4   \n",
       "3               3         4   ReseArCH DIrECtOr                 3   \n",
       "4               4         4     sAleS EXECUtIve                 1   \n",
       "\n",
       "  maritalstatus monthlyincome monthlyrate  numcompaniesworked over18 overtime  \\\n",
       "0           NaN     16280,83$   42330,17$                   7      Y       No   \n",
       "1           NaN           NaN   43331,17$                   0    NaN      NaN   \n",
       "2       Married           NaN   41669,33$                   1    NaN       No   \n",
       "3       Married     14307,50$   37199,50$                   3      Y      NaN   \n",
       "4      Divorced     12783,92$   33238,20$                   2      Y       No   \n",
       "\n",
       "   percentsalaryhike performancerating  relationshipsatisfaction  \\\n",
       "0                 13               3,0                         3   \n",
       "1                 14               3,0                         1   \n",
       "2                 11               3,0                         4   \n",
       "3                 19               3,0                         2   \n",
       "4                 12               3,0                         4   \n",
       "\n",
       "  standardhours  stockoptionlevel totalworkingyears  trainingtimeslastyear  \\\n",
       "0     Full Time                 0               NaN                      5   \n",
       "1           NaN                 1              34,0                      5   \n",
       "2           NaN                 0              22,0                      3   \n",
       "3     Full Time                 2               NaN                      2   \n",
       "4           NaN                 1               NaN                      5   \n",
       "\n",
       "  worklifebalance  yearsatcompany yearsincurrentrole  yearssincelastpromotion  \\\n",
       "0             3,0              20                NaN                       15   \n",
       "1             3,0              33                NaN                       11   \n",
       "2             NaN              22                NaN                       11   \n",
       "3             NaN              20                NaN                        5   \n",
       "4             3,0              19                NaN                        2   \n",
       "\n",
       "   yearswithcurrmanager sameasmonthlyincome  datebirth      salary  \\\n",
       "0                    15           16280,83$       1972  195370,00$   \n",
       "1                     9                 NaN       1971  199990,00$   \n",
       "2                    15                 NaN       1981  192320,00$   \n",
       "3                     6           14307,50$       1976  171690,00$   \n",
       "4                     8           12783,92$       1977         NaN   \n",
       "\n",
       "                        roledepartament  numberchildren remotework  \n",
       "0                                   NaN             NaN        Yes  \n",
       "1                                   NaN             NaN          1  \n",
       "2   ManaGER  -  Research & Development              NaN          1  \n",
       "3                                   NaN             NaN      False  \n",
       "4                                   NaN             NaN          0  "
      ]
     },
     "execution_count": 2,
     "metadata": {},
     "output_type": "execute_result"
    }
   ],
   "source": [
    "df_limpio = pd.read_csv(\"hr_raw_data.csv\", index_col=0)\n",
    "df_limpio.head()"
   ]
  },
  {
   "cell_type": "markdown",
   "id": "08b132bd",
   "metadata": {},
   "source": [
    "### Columnas Gabi"
   ]
  },
  {
   "cell_type": "code",
   "execution_count": 3,
   "id": "e2012e01",
   "metadata": {},
   "outputs": [],
   "source": [
    "#Vamos a limpiar la columna age\n",
    "df_limpio['age'] = df_limpio['age'].str.strip().str.lower()"
   ]
  },
  {
   "cell_type": "code",
   "execution_count": 4,
   "id": "2a4df854",
   "metadata": {},
   "outputs": [],
   "source": [
    "def calcular_edad(datebirth):\n",
    "    año_actual = 2025\n",
    "    return año_actual - datebirth"
   ]
  },
  {
   "cell_type": "code",
   "execution_count": 5,
   "id": "b91fc535",
   "metadata": {},
   "outputs": [],
   "source": [
    "df_limpio['age'] = df_limpio['datebirth'].apply(calcular_edad).astype(int)"
   ]
  },
  {
   "cell_type": "code",
   "execution_count": 6,
   "id": "5014f78b",
   "metadata": {},
   "outputs": [
    {
     "data": {
      "text/plain": [
       "array([53, 54, 44, 49, 48, 50, 61, 43, 58, 40, 57, 42, 60, 37, 47, 35, 38,\n",
       "       36, 55, 45, 62, 34, 39, 51, 41, 52, 46, 32, 31, 33, 56, 59, 29, 30,\n",
       "       28, 27, 26, 25, 24, 23, 22, 21, 20])"
      ]
     },
     "execution_count": 6,
     "metadata": {},
     "output_type": "execute_result"
    }
   ],
   "source": [
    "df_limpio[\"age\"].unique() "
   ]
  },
  {
   "cell_type": "code",
   "execution_count": 7,
   "id": "e0fbc5ae",
   "metadata": {},
   "outputs": [
    {
     "name": "stdout",
     "output_type": "stream",
     "text": [
      "Porcentaje de nulos en 'age': 0.00%\n"
     ]
    }
   ],
   "source": [
    "porcentaje_nulos_age = df_limpio['age'].isnull().mean() * 100\n",
    "print(f\"Porcentaje de nulos en 'age': {porcentaje_nulos_age:.2f}%\")"
   ]
  },
  {
   "cell_type": "code",
   "execution_count": 8,
   "id": "e8b6183e",
   "metadata": {},
   "outputs": [
    {
     "name": "stdout",
     "output_type": "stream",
     "text": [
      "Número de valores únicos en 'age': 43\n"
     ]
    }
   ],
   "source": [
    "conteo_unicos = df_limpio['age'].nunique()\n",
    "print(f\"Número de valores únicos en 'age': {conteo_unicos}\")"
   ]
  },
  {
   "cell_type": "code",
   "execution_count": 9,
   "id": "b1064d0d",
   "metadata": {},
   "outputs": [
    {
     "data": {
      "text/plain": [
       "array([53, 54, 44, 49, 48, 50, 61, 43, 58, 40, 57, 42, 60, 37, 47, 35, 38,\n",
       "       36, 55, 45, 62, 34, 39, 51, 41, 52, 46, 32, 31, 33, 56, 59, 29, 30,\n",
       "       28, 27, 26, 25, 24, 23, 22, 21, 20])"
      ]
     },
     "execution_count": 9,
     "metadata": {},
     "output_type": "execute_result"
    }
   ],
   "source": [
    "df_limpio[\"age\"].unique()"
   ]
  },
  {
   "cell_type": "code",
   "execution_count": 10,
   "id": "d3fc479d",
   "metadata": {},
   "outputs": [
    {
     "data": {
      "text/plain": [
       "array([  6,   1,   4,   2,   3,  22,  25,   9,   7,  23,  10,  12,  14,\n",
       "       -13,  15,   8, -42,  28, -37,   5,  16, -35,  26, -26,  24,  29,\n",
       "       -25,  17,  21, -18, -10, -30, -27,  20, -31, -29, -39,  18, -21,\n",
       "       -15,  11,  13, -14,  19, -33, -34, -46, -36, -19,  27, -12, -23,\n",
       "       -45, -28, -47, -32, -24, -16, -22, -41, -49, -11, -48, -38, -20,\n",
       "       -17, -43, -40, -44])"
      ]
     },
     "execution_count": 10,
     "metadata": {},
     "output_type": "execute_result"
    }
   ],
   "source": [
    "df_limpio[\"distancefromhome\"].unique()"
   ]
  },
  {
   "cell_type": "code",
   "execution_count": 11,
   "id": "63a3d5a6",
   "metadata": {},
   "outputs": [],
   "source": [
    "df_limpio[\"distancefromhome\"] = df_limpio[\"distancefromhome\"].abs()"
   ]
  },
  {
   "cell_type": "code",
   "execution_count": 12,
   "id": "9f56d6e8",
   "metadata": {},
   "outputs": [
    {
     "data": {
      "text/plain": [
       "array([ 6,  1,  4,  2,  3, 22, 25,  9,  7, 23, 10, 12, 14, 13, 15,  8, 42,\n",
       "       28, 37,  5, 16, 35, 26, 24, 29, 17, 21, 18, 30, 27, 20, 31, 39, 11,\n",
       "       19, 33, 34, 46, 36, 45, 47, 32, 41, 49, 48, 38, 43, 40, 44])"
      ]
     },
     "execution_count": 12,
     "metadata": {},
     "output_type": "execute_result"
    }
   ],
   "source": [
    "df_limpio[\"distancefromhome\"].unique()"
   ]
  },
  {
   "cell_type": "code",
   "execution_count": 13,
   "id": "303a4a7a",
   "metadata": {},
   "outputs": [
    {
     "data": {
      "text/plain": [
       "Index(['age', 'attrition', 'businesstravel', 'dailyrate', 'department',\n",
       "       'distancefromhome', 'education', 'educationfield', 'employeecount',\n",
       "       'employeenumber', 'environmentsatisfaction', 'gender', 'hourlyrate',\n",
       "       'jobinvolvement', 'joblevel', 'jobrole', 'jobsatisfaction',\n",
       "       'maritalstatus', 'monthlyincome', 'monthlyrate', 'numcompaniesworked',\n",
       "       'over18', 'overtime', 'percentsalaryhike', 'performancerating',\n",
       "       'relationshipsatisfaction', 'standardhours', 'stockoptionlevel',\n",
       "       'totalworkingyears', 'trainingtimeslastyear', 'worklifebalance',\n",
       "       'yearsatcompany', 'yearsincurrentrole', 'yearssincelastpromotion',\n",
       "       'yearswithcurrmanager', 'sameasmonthlyincome', 'datebirth', 'salary',\n",
       "       'roledepartament', 'numberchildren', 'remotework'],\n",
       "      dtype='object')"
      ]
     },
     "execution_count": 13,
     "metadata": {},
     "output_type": "execute_result"
    }
   ],
   "source": [
    "df_limpio.columns"
   ]
  },
  {
   "cell_type": "code",
   "execution_count": 14,
   "id": "90c360bb",
   "metadata": {},
   "outputs": [],
   "source": [
    "# Quitamos employeecount porque el valor es 1 y no aporta información\n",
    "df_limpio = df_limpio.drop(columns=[\"employeecount\"])"
   ]
  },
  {
   "cell_type": "code",
   "execution_count": 15,
   "id": "bbde3089",
   "metadata": {},
   "outputs": [
    {
     "data": {
      "text/plain": [
       "Index(['age', 'attrition', 'businesstravel', 'dailyrate', 'department',\n",
       "       'distancefromhome', 'education', 'educationfield', 'employeenumber',\n",
       "       'environmentsatisfaction', 'gender', 'hourlyrate', 'jobinvolvement',\n",
       "       'joblevel', 'jobrole', 'jobsatisfaction', 'maritalstatus',\n",
       "       'monthlyincome', 'monthlyrate', 'numcompaniesworked', 'over18',\n",
       "       'overtime', 'percentsalaryhike', 'performancerating',\n",
       "       'relationshipsatisfaction', 'standardhours', 'stockoptionlevel',\n",
       "       'totalworkingyears', 'trainingtimeslastyear', 'worklifebalance',\n",
       "       'yearsatcompany', 'yearsincurrentrole', 'yearssincelastpromotion',\n",
       "       'yearswithcurrmanager', 'sameasmonthlyincome', 'datebirth', 'salary',\n",
       "       'roledepartament', 'numberchildren', 'remotework'],\n",
       "      dtype='object')"
      ]
     },
     "execution_count": 15,
     "metadata": {},
     "output_type": "execute_result"
    }
   ],
   "source": [
    "df_limpio.columns #comprobamos que ya no está"
   ]
  },
  {
   "cell_type": "markdown",
   "id": "73b4345b",
   "metadata": {},
   "source": [
    "### Columnas Irene"
   ]
  },
  {
   "cell_type": "code",
   "execution_count": 16,
   "id": "76237abb",
   "metadata": {},
   "outputs": [
    {
     "data": {
      "text/plain": [
       "'¿borramos hourlyrate?'"
      ]
     },
     "execution_count": 16,
     "metadata": {},
     "output_type": "execute_result"
    }
   ],
   "source": [
    "'''¿borramos hourlyrate?'''"
   ]
  },
  {
   "cell_type": "markdown",
   "id": "2ebc0a31",
   "metadata": {},
   "source": [
    "\n",
    "\n",
    "\n"
   ]
  },
  {
   "cell_type": "code",
   "execution_count": 17,
   "id": "09f1839b",
   "metadata": {},
   "outputs": [],
   "source": [
    "def minusculas(celda): #quitemos las mayúculas a jobrole\n",
    "  try:\n",
    "    return celda.lower()\n",
    "  except:\n",
    "    return celda"
   ]
  },
  {
   "cell_type": "code",
   "execution_count": 18,
   "id": "6bff8c87",
   "metadata": {},
   "outputs": [],
   "source": [
    "df_limpio['jobrole'] = df_limpio['jobrole'].apply(minusculas)"
   ]
  },
  {
   "cell_type": "code",
   "execution_count": 19,
   "id": "2d6fd8ab",
   "metadata": {},
   "outputs": [],
   "source": [
    "df_limpio['jobrole'] = df_limpio['jobrole'].str.strip()"
   ]
  },
  {
   "cell_type": "code",
   "execution_count": 20,
   "id": "c6e1a358",
   "metadata": {},
   "outputs": [
    {
     "data": {
      "text/plain": [
       "array(['research director', 'manager', 'sales executive',\n",
       "       'manufacturing director', 'research scientist',\n",
       "       'healthcare representative', 'laboratory technician',\n",
       "       'sales representative', 'human resources'], dtype=object)"
      ]
     },
     "execution_count": 20,
     "metadata": {},
     "output_type": "execute_result"
    }
   ],
   "source": [
    "df_limpio['jobrole'].unique()"
   ]
  },
  {
   "cell_type": "code",
   "execution_count": 21,
   "id": "5cf6b8a4",
   "metadata": {},
   "outputs": [],
   "source": [
    "df_limpio['maritalstatus'] = df_limpio['maritalstatus'].apply(minusculas)"
   ]
  },
  {
   "cell_type": "code",
   "execution_count": 22,
   "id": "de8c1b89",
   "metadata": {},
   "outputs": [],
   "source": [
    "df_limpio['maritalstatus'] = df_limpio['maritalstatus'].replace('marreid', 'married')"
   ]
  },
  {
   "cell_type": "code",
   "execution_count": 23,
   "id": "beb80b17",
   "metadata": {},
   "outputs": [
    {
     "data": {
      "text/plain": [
       "array([nan, 'married', 'divorced', 'single'], dtype=object)"
      ]
     },
     "execution_count": 23,
     "metadata": {},
     "output_type": "execute_result"
    }
   ],
   "source": [
    "df_limpio['maritalstatus'].unique() #aplicamos minúsculas"
   ]
  },
  {
   "cell_type": "code",
   "execution_count": 24,
   "id": "15f95e23",
   "metadata": {},
   "outputs": [
    {
     "name": "stderr",
     "output_type": "stream",
     "text": [
      "/tmp/ipykernel_1535035/2639878342.py:1: FutureWarning: A value is trying to be set on a copy of a DataFrame or Series through chained assignment using an inplace method.\n",
      "The behavior will change in pandas 3.0. This inplace method will never work because the intermediate object on which we are setting values always behaves as a copy.\n",
      "\n",
      "For example, when doing 'df[col].method(value, inplace=True)', try using 'df.method({col: value}, inplace=True)' or df[col] = df[col].method(value) instead, to perform the operation inplace on the original object.\n",
      "\n",
      "\n",
      "  df_limpio['gender'].replace({0: 'Male', 1: 'Female'}, inplace=True)\n"
     ]
    }
   ],
   "source": [
    "df_limpio['gender'].replace({0: 'Male', 1: 'Female'}, inplace=True)"
   ]
  },
  {
   "cell_type": "code",
   "execution_count": 25,
   "id": "62ac749a",
   "metadata": {},
   "outputs": [
    {
     "data": {
      "text/plain": [
       "array(['Male', 'Female'], dtype=object)"
      ]
     },
     "execution_count": 25,
     "metadata": {},
     "output_type": "execute_result"
    }
   ],
   "source": [
    "df_limpio['gender'].unique()"
   ]
  },
  {
   "cell_type": "code",
   "execution_count": 26,
   "id": "099cce24",
   "metadata": {},
   "outputs": [],
   "source": [
    "df_limpio['environmentsatisfaction'] = np.where(\n",
    "  df_limpio['environmentsatisfaction'].between(10, 49), # Valores de 2 dígitos\n",
    "  df_limpio['environmentsatisfaction'] // 10,      # División entera (primer dígito)\n",
    "  df_limpio['environmentsatisfaction']         # Valores 1-4 se mantienen\n",
    ")"
   ]
  },
  {
   "cell_type": "code",
   "execution_count": 27,
   "id": "7d876985",
   "metadata": {},
   "outputs": [
    {
     "data": {
      "text/plain": [
       "array([1, 3, 4, 2])"
      ]
     },
     "execution_count": 27,
     "metadata": {},
     "output_type": "execute_result"
    }
   ],
   "source": [
    "df_limpio['environmentsatisfaction'].unique()"
   ]
  },
  {
   "cell_type": "code",
   "execution_count": 28,
   "id": "4814151c",
   "metadata": {},
   "outputs": [
    {
     "data": {
      "text/plain": [
       "environmentsatisfaction\n",
       "4    509\n",
       "3    490\n",
       "1    341\n",
       "2    338\n",
       "Name: count, dtype: int64"
      ]
     },
     "execution_count": 28,
     "metadata": {},
     "output_type": "execute_result"
    }
   ],
   "source": [
    "df_limpio['environmentsatisfaction'].value_counts()"
   ]
  },
  {
   "cell_type": "code",
   "execution_count": 29,
   "id": "a7b4e82b",
   "metadata": {},
   "outputs": [],
   "source": [
    "df_limpio['monthlyincome'] = df_limpio['monthlyincome'].str.replace('$', '', regex=False).str.replace(',', '.', regex=False).astype(float)"
   ]
  },
  {
   "cell_type": "code",
   "execution_count": 30,
   "id": "b01399f8",
   "metadata": {},
   "outputs": [],
   "source": [
    "\n",
    "df_limpio.rename(columns= {'monthlyincome': 'monthlyincome_$'}, inplace=True)"
   ]
  },
  {
   "cell_type": "code",
   "execution_count": 31,
   "id": "6bb39881",
   "metadata": {},
   "outputs": [],
   "source": [
    "df_limpio['monthlyrate'] = df_limpio['monthlyrate'].str.replace('$', '', regex=False).str.replace(',', '.', regex=False).astype(float)"
   ]
  },
  {
   "cell_type": "code",
   "execution_count": 32,
   "id": "4cdd7fae",
   "metadata": {},
   "outputs": [],
   "source": [
    "df_limpio.rename(columns= {'monthlyrate':'monthlyrate_$'}, inplace=True)"
   ]
  },
  {
   "cell_type": "code",
   "execution_count": 33,
   "id": "28dbee4b",
   "metadata": {},
   "outputs": [],
   "source": [
    "df_limpio.drop(columns=[\"hourlyrate\"], inplace=True)"
   ]
  },
  {
   "cell_type": "code",
   "execution_count": 34,
   "id": "dc555aab",
   "metadata": {},
   "outputs": [
    {
     "name": "stdout",
     "output_type": "stream",
     "text": [
      "<class 'pandas.core.frame.DataFrame'>\n",
      "Index: 1678 entries, 0 to 1677\n",
      "Data columns (total 39 columns):\n",
      " #   Column                    Non-Null Count  Dtype  \n",
      "---  ------                    --------------  -----  \n",
      " 0   age                       1678 non-null   int64  \n",
      " 1   attrition                 1678 non-null   object \n",
      " 2   businesstravel            877 non-null    object \n",
      " 3   dailyrate                 1678 non-null   float64\n",
      " 4   department                312 non-null    object \n",
      " 5   distancefromhome          1678 non-null   int64  \n",
      " 6   education                 1678 non-null   int64  \n",
      " 7   educationfield            904 non-null    object \n",
      " 8   employeenumber            1678 non-null   int64  \n",
      " 9   environmentsatisfaction   1678 non-null   int64  \n",
      " 10  gender                    1678 non-null   object \n",
      " 11  jobinvolvement            1678 non-null   int64  \n",
      " 12  joblevel                  1678 non-null   int64  \n",
      " 13  jobrole                   1678 non-null   object \n",
      " 14  jobsatisfaction           1678 non-null   int64  \n",
      " 15  maritalstatus             1003 non-null   object \n",
      " 16  monthlyincome_$           1189 non-null   float64\n",
      " 17  monthlyrate_$             1678 non-null   float64\n",
      " 18  numcompaniesworked        1678 non-null   int64  \n",
      " 19  over18                    740 non-null    object \n",
      " 20  overtime                  982 non-null    object \n",
      " 21  percentsalaryhike         1678 non-null   int64  \n",
      " 22  performancerating         1478 non-null   object \n",
      " 23  relationshipsatisfaction  1678 non-null   int64  \n",
      " 24  standardhours             1327 non-null   object \n",
      " 25  stockoptionlevel          1678 non-null   int64  \n",
      " 26  totalworkingyears         1129 non-null   object \n",
      " 27  trainingtimeslastyear     1678 non-null   int64  \n",
      " 28  worklifebalance           1564 non-null   object \n",
      " 29  yearsatcompany            1678 non-null   int64  \n",
      " 30  yearsincurrentrole        35 non-null     object \n",
      " 31  yearssincelastpromotion   1678 non-null   int64  \n",
      " 32  yearswithcurrmanager      1678 non-null   int64  \n",
      " 33  sameasmonthlyincome       1189 non-null   object \n",
      " 34  datebirth                 1678 non-null   int64  \n",
      " 35  salary                    1393 non-null   object \n",
      " 36  roledepartament           312 non-null    object \n",
      " 37  numberchildren            0 non-null      float64\n",
      " 38  remotework                1678 non-null   object \n",
      "dtypes: float64(4), int64(17), object(18)\n",
      "memory usage: 524.4+ KB\n"
     ]
    }
   ],
   "source": [
    "df_limpio.info()"
   ]
  },
  {
   "cell_type": "markdown",
   "id": "b00ce1c1",
   "metadata": {},
   "source": [
    "Columnas Ana"
   ]
  },
  {
   "cell_type": "code",
   "execution_count": 35,
   "id": "a8cb0436",
   "metadata": {},
   "outputs": [],
   "source": [
    "# borrar la columna 'over 18' ('redundante')\n",
    "df_limpio.drop(columns=[\"over18\"], inplace=True)"
   ]
  },
  {
   "cell_type": "code",
   "execution_count": 36,
   "id": "b0398057",
   "metadata": {},
   "outputs": [],
   "source": [
    "# borrar la columna 'totalworkingyears' (ya existe 'yearsatacompany')\n",
    "df_limpio.drop(columns=[\"totalworkingyears\"], inplace=True)"
   ]
  },
  {
   "cell_type": "code",
   "execution_count": 37,
   "id": "642a476d",
   "metadata": {},
   "outputs": [],
   "source": [
    "# 'worklifebalance' cambiar de objeto a numeric  \n",
    "df_limpio[\"worklifebalance\"] = pd.to_numeric(df_limpio[\"worklifebalance\"], errors=\"coerce\")"
   ]
  },
  {
   "cell_type": "code",
   "execution_count": 38,
   "id": "a03d5b3a",
   "metadata": {},
   "outputs": [],
   "source": [
    "# 'performancerating' cambiar de objeto a numeric  \n",
    "df_limpio[\"performancerating\"] = pd.to_numeric(df_limpio[\"performancerating\"], errors=\"coerce\")"
   ]
  },
  {
   "cell_type": "code",
   "execution_count": 39,
   "id": "1cb630fe",
   "metadata": {},
   "outputs": [],
   "source": [
    "# gestion nulos de 'standardhours' \n",
    "df_limpio['standardhours'] = df_limpio['standardhours'].fillna(\"Unknown\")"
   ]
  },
  {
   "cell_type": "code",
   "execution_count": 40,
   "id": "c327c838",
   "metadata": {},
   "outputs": [],
   "source": [
    "# gestion nulos de 'overtime'\n",
    "df_limpio['overtime'] = df_limpio['overtime'].fillna(\"Unknown\")"
   ]
  },
  {
   "cell_type": "code",
   "execution_count": 41,
   "id": "07ab5ca4",
   "metadata": {},
   "outputs": [
    {
     "name": "stdout",
     "output_type": "stream",
     "text": [
      "<class 'pandas.core.frame.DataFrame'>\n",
      "Index: 1678 entries, 0 to 1677\n",
      "Data columns (total 37 columns):\n",
      " #   Column                    Non-Null Count  Dtype  \n",
      "---  ------                    --------------  -----  \n",
      " 0   age                       1678 non-null   int64  \n",
      " 1   attrition                 1678 non-null   object \n",
      " 2   businesstravel            877 non-null    object \n",
      " 3   dailyrate                 1678 non-null   float64\n",
      " 4   department                312 non-null    object \n",
      " 5   distancefromhome          1678 non-null   int64  \n",
      " 6   education                 1678 non-null   int64  \n",
      " 7   educationfield            904 non-null    object \n",
      " 8   employeenumber            1678 non-null   int64  \n",
      " 9   environmentsatisfaction   1678 non-null   int64  \n",
      " 10  gender                    1678 non-null   object \n",
      " 11  jobinvolvement            1678 non-null   int64  \n",
      " 12  joblevel                  1678 non-null   int64  \n",
      " 13  jobrole                   1678 non-null   object \n",
      " 14  jobsatisfaction           1678 non-null   int64  \n",
      " 15  maritalstatus             1003 non-null   object \n",
      " 16  monthlyincome_$           1189 non-null   float64\n",
      " 17  monthlyrate_$             1678 non-null   float64\n",
      " 18  numcompaniesworked        1678 non-null   int64  \n",
      " 19  overtime                  1678 non-null   object \n",
      " 20  percentsalaryhike         1678 non-null   int64  \n",
      " 21  performancerating         0 non-null      float64\n",
      " 22  relationshipsatisfaction  1678 non-null   int64  \n",
      " 23  standardhours             1678 non-null   object \n",
      " 24  stockoptionlevel          1678 non-null   int64  \n",
      " 25  trainingtimeslastyear     1678 non-null   int64  \n",
      " 26  worklifebalance           0 non-null      float64\n",
      " 27  yearsatcompany            1678 non-null   int64  \n",
      " 28  yearsincurrentrole        35 non-null     object \n",
      " 29  yearssincelastpromotion   1678 non-null   int64  \n",
      " 30  yearswithcurrmanager      1678 non-null   int64  \n",
      " 31  sameasmonthlyincome       1189 non-null   object \n",
      " 32  datebirth                 1678 non-null   int64  \n",
      " 33  salary                    1393 non-null   object \n",
      " 34  roledepartament           312 non-null    object \n",
      " 35  numberchildren            0 non-null      float64\n",
      " 36  remotework                1678 non-null   object \n",
      "dtypes: float64(6), int64(17), object(14)\n",
      "memory usage: 498.2+ KB\n"
     ]
    }
   ],
   "source": [
    "df_limpio.info()"
   ]
  },
  {
   "cell_type": "markdown",
   "id": "034aa051",
   "metadata": {},
   "source": [
    "Columnas Carmen"
   ]
  },
  {
   "cell_type": "code",
   "execution_count": 42,
   "id": "d99116e7",
   "metadata": {},
   "outputs": [
    {
     "name": "stdout",
     "output_type": "stream",
     "text": [
      "'numberchildren' ha sido eliminada.\n"
     ]
    }
   ],
   "source": [
    "if 'numberchildren' in df_limpio.columns:\n",
    "    df_limpio.drop('numberchildren', axis=1, inplace=True)\n",
    "    print(\"'numberchildren' ha sido eliminada.\")\n",
    "else:\n",
    "    print(\"'numberchildren' no se encontró en el DataFrame.\")"
   ]
  },
  {
   "cell_type": "code",
   "execution_count": 43,
   "id": "03e31cc0",
   "metadata": {},
   "outputs": [
    {
     "data": {
      "text/plain": [
       "Index(['age', 'attrition', 'businesstravel', 'dailyrate', 'department',\n",
       "       'distancefromhome', 'education', 'educationfield', 'employeenumber',\n",
       "       'environmentsatisfaction', 'gender', 'jobinvolvement', 'joblevel',\n",
       "       'jobrole', 'jobsatisfaction', 'maritalstatus', 'monthlyincome_$',\n",
       "       'monthlyrate_$', 'numcompaniesworked', 'overtime', 'percentsalaryhike',\n",
       "       'performancerating', 'relationshipsatisfaction', 'standardhours',\n",
       "       'stockoptionlevel', 'trainingtimeslastyear', 'worklifebalance',\n",
       "       'yearsatcompany', 'yearsincurrentrole', 'yearssincelastpromotion',\n",
       "       'yearswithcurrmanager', 'sameasmonthlyincome', 'datebirth', 'salary',\n",
       "       'roledepartament', 'remotework'],\n",
       "      dtype='object')"
      ]
     },
     "execution_count": 43,
     "metadata": {},
     "output_type": "execute_result"
    }
   ],
   "source": [
    "df_limpio.columns"
   ]
  },
  {
   "cell_type": "code",
   "execution_count": 44,
   "id": "f0b83768",
   "metadata": {},
   "outputs": [
    {
     "name": "stdout",
     "output_type": "stream",
     "text": [
      "\n",
      "Limpiando 'yearsincurrentrole'...\n",
      "'yearsincurrentrole' convertida a tipo numérico (float).\n"
     ]
    }
   ],
   "source": [
    "print(\"\\nLimpiando 'yearsincurrentrole'...\")\n",
    "df_limpio['yearsincurrentrole'] = df_limpio['yearsincurrentrole'].str.replace(',', '.', regex=False).astype(float)\n",
    "print(\"'yearsincurrentrole' convertida a tipo numérico (float).\")"
   ]
  },
  {
   "cell_type": "code",
   "execution_count": 45,
   "id": "799d2c82",
   "metadata": {},
   "outputs": [],
   "source": [
    "df_limpio['salary'] = df_limpio['salary'].str.replace('$', '', regex=False).str.replace(',', '.', regex=False).astype(float)"
   ]
  },
  {
   "cell_type": "code",
   "execution_count": 46,
   "id": "299e9e09",
   "metadata": {},
   "outputs": [],
   "source": [
    "salario = df_limpio['sameasmonthlyincome'] == df_limpio['monthlyincome_$']"
   ]
  },
  {
   "cell_type": "code",
   "execution_count": 47,
   "id": "6b7cb3b3",
   "metadata": {},
   "outputs": [
    {
     "data": {
      "text/plain": [
       "0    False\n",
       "1    False\n",
       "2    False\n",
       "3    False\n",
       "4    False\n",
       "dtype: bool"
      ]
     },
     "execution_count": 47,
     "metadata": {},
     "output_type": "execute_result"
    }
   ],
   "source": [
    "salario.head()"
   ]
  },
  {
   "cell_type": "code",
   "execution_count": 48,
   "id": "f2434f3e",
   "metadata": {},
   "outputs": [
    {
     "data": {
      "text/html": [
       "<div>\n",
       "<style scoped>\n",
       "    .dataframe tbody tr th:only-of-type {\n",
       "        vertical-align: middle;\n",
       "    }\n",
       "\n",
       "    .dataframe tbody tr th {\n",
       "        vertical-align: top;\n",
       "    }\n",
       "\n",
       "    .dataframe thead th {\n",
       "        text-align: right;\n",
       "    }\n",
       "</style>\n",
       "<table border=\"1\" class=\"dataframe\">\n",
       "  <thead>\n",
       "    <tr style=\"text-align: right;\">\n",
       "      <th></th>\n",
       "      <th>monthlyincome_$</th>\n",
       "      <th>sameasmonthlyincome</th>\n",
       "      <th>salary</th>\n",
       "    </tr>\n",
       "  </thead>\n",
       "  <tbody>\n",
       "    <tr>\n",
       "      <th>0</th>\n",
       "      <td>16280.83</td>\n",
       "      <td>16280,83$</td>\n",
       "      <td>195370.00</td>\n",
       "    </tr>\n",
       "    <tr>\n",
       "      <th>1</th>\n",
       "      <td>NaN</td>\n",
       "      <td>NaN</td>\n",
       "      <td>199990.00</td>\n",
       "    </tr>\n",
       "    <tr>\n",
       "      <th>2</th>\n",
       "      <td>NaN</td>\n",
       "      <td>NaN</td>\n",
       "      <td>192320.00</td>\n",
       "    </tr>\n",
       "    <tr>\n",
       "      <th>3</th>\n",
       "      <td>14307.50</td>\n",
       "      <td>14307,50$</td>\n",
       "      <td>171690.00</td>\n",
       "    </tr>\n",
       "    <tr>\n",
       "      <th>4</th>\n",
       "      <td>12783.92</td>\n",
       "      <td>12783,92$</td>\n",
       "      <td>NaN</td>\n",
       "    </tr>\n",
       "    <tr>\n",
       "      <th>...</th>\n",
       "      <td>...</td>\n",
       "      <td>...</td>\n",
       "      <td>...</td>\n",
       "    </tr>\n",
       "    <tr>\n",
       "      <th>1673</th>\n",
       "      <td>3949.17</td>\n",
       "      <td>3949,17$</td>\n",
       "      <td>NaN</td>\n",
       "    </tr>\n",
       "    <tr>\n",
       "      <th>1674</th>\n",
       "      <td>15943.72</td>\n",
       "      <td>15943,72$</td>\n",
       "      <td>191324.62</td>\n",
       "    </tr>\n",
       "    <tr>\n",
       "      <th>1675</th>\n",
       "      <td>NaN</td>\n",
       "      <td>NaN</td>\n",
       "      <td>28111.13</td>\n",
       "    </tr>\n",
       "    <tr>\n",
       "      <th>1676</th>\n",
       "      <td>8339.32</td>\n",
       "      <td>8339,32$</td>\n",
       "      <td>100071.84</td>\n",
       "    </tr>\n",
       "    <tr>\n",
       "      <th>1677</th>\n",
       "      <td>NaN</td>\n",
       "      <td>NaN</td>\n",
       "      <td>53914.11</td>\n",
       "    </tr>\n",
       "  </tbody>\n",
       "</table>\n",
       "<p>1678 rows × 3 columns</p>\n",
       "</div>"
      ],
      "text/plain": [
       "      monthlyincome_$ sameasmonthlyincome     salary\n",
       "0            16280.83           16280,83$  195370.00\n",
       "1                 NaN                 NaN  199990.00\n",
       "2                 NaN                 NaN  192320.00\n",
       "3            14307.50           14307,50$  171690.00\n",
       "4            12783.92           12783,92$        NaN\n",
       "...               ...                 ...        ...\n",
       "1673          3949.17            3949,17$        NaN\n",
       "1674         15943.72           15943,72$  191324.62\n",
       "1675              NaN                 NaN   28111.13\n",
       "1676          8339.32            8339,32$  100071.84\n",
       "1677              NaN                 NaN   53914.11\n",
       "\n",
       "[1678 rows x 3 columns]"
      ]
     },
     "execution_count": 48,
     "metadata": {},
     "output_type": "execute_result"
    }
   ],
   "source": [
    "df_income = df_limpio[['monthlyincome_$', \"sameasmonthlyincome\", 'salary']]\n",
    "df_income\n",
    "#estudiar cómo sacar info de salary para monthlyincome"
   ]
  },
  {
   "cell_type": "code",
   "execution_count": 49,
   "id": "e326d9dc",
   "metadata": {},
   "outputs": [],
   "source": [
    "df_limpio['roledepartament'] = df_limpio['roledepartament'].str.strip().str.lower()"
   ]
  },
  {
   "cell_type": "code",
   "execution_count": 50,
   "id": "c84bbd98",
   "metadata": {},
   "outputs": [
    {
     "data": {
      "text/plain": [
       "array([nan, 'manager  -  research & development',\n",
       "       'healthcare representative  -  research & development',\n",
       "       'sales executive  -  sales',\n",
       "       'laboratory technician  -  research & development',\n",
       "       'manufacturing director  -  research & development',\n",
       "       'research scientist  -  research & development',\n",
       "       'research director  -  research & development',\n",
       "       'human resources  -  human resources', 'manager  -  sales',\n",
       "       'sales representative  -  sales', 'manager  -  human resources'],\n",
       "      dtype=object)"
      ]
     },
     "execution_count": 50,
     "metadata": {},
     "output_type": "execute_result"
    }
   ],
   "source": [
    "df_limpio['roledepartament'].unique()"
   ]
  },
  {
   "cell_type": "code",
   "execution_count": 51,
   "id": "f795f130",
   "metadata": {},
   "outputs": [
    {
     "data": {
      "text/plain": [
       "array(['Yes', '1', 'False', '0', 'True'], dtype=object)"
      ]
     },
     "execution_count": 51,
     "metadata": {},
     "output_type": "execute_result"
    }
   ],
   "source": [
    "df_limpio['remotework'].unique()"
   ]
  },
  {
   "cell_type": "code",
   "execution_count": 52,
   "id": "1e55f59e",
   "metadata": {},
   "outputs": [],
   "source": [
    "mapa_booleano = {\n",
    "    'Yes': True, '1': True, 1: True, 'True': True, True: True,\n",
    "    'False': False, '0': False, 0: False, 'No': False, False: False\n",
    "}\n"
   ]
  },
  {
   "cell_type": "code",
   "execution_count": 53,
   "id": "b47ed948",
   "metadata": {},
   "outputs": [],
   "source": [
    "df_limpio['remotework'] = df_limpio['remotework'].map(mapa_booleano).astype(bool)"
   ]
  },
  {
   "cell_type": "code",
   "execution_count": 54,
   "id": "b338655e",
   "metadata": {},
   "outputs": [
    {
     "name": "stdout",
     "output_type": "stream",
     "text": [
      "<class 'pandas.core.frame.DataFrame'>\n",
      "Index: 1678 entries, 0 to 1677\n",
      "Data columns (total 36 columns):\n",
      " #   Column                    Non-Null Count  Dtype  \n",
      "---  ------                    --------------  -----  \n",
      " 0   age                       1678 non-null   int64  \n",
      " 1   attrition                 1678 non-null   object \n",
      " 2   businesstravel            877 non-null    object \n",
      " 3   dailyrate                 1678 non-null   float64\n",
      " 4   department                312 non-null    object \n",
      " 5   distancefromhome          1678 non-null   int64  \n",
      " 6   education                 1678 non-null   int64  \n",
      " 7   educationfield            904 non-null    object \n",
      " 8   employeenumber            1678 non-null   int64  \n",
      " 9   environmentsatisfaction   1678 non-null   int64  \n",
      " 10  gender                    1678 non-null   object \n",
      " 11  jobinvolvement            1678 non-null   int64  \n",
      " 12  joblevel                  1678 non-null   int64  \n",
      " 13  jobrole                   1678 non-null   object \n",
      " 14  jobsatisfaction           1678 non-null   int64  \n",
      " 15  maritalstatus             1003 non-null   object \n",
      " 16  monthlyincome_$           1189 non-null   float64\n",
      " 17  monthlyrate_$             1678 non-null   float64\n",
      " 18  numcompaniesworked        1678 non-null   int64  \n",
      " 19  overtime                  1678 non-null   object \n",
      " 20  percentsalaryhike         1678 non-null   int64  \n",
      " 21  performancerating         0 non-null      float64\n",
      " 22  relationshipsatisfaction  1678 non-null   int64  \n",
      " 23  standardhours             1678 non-null   object \n",
      " 24  stockoptionlevel          1678 non-null   int64  \n",
      " 25  trainingtimeslastyear     1678 non-null   int64  \n",
      " 26  worklifebalance           0 non-null      float64\n",
      " 27  yearsatcompany            1678 non-null   int64  \n",
      " 28  yearsincurrentrole        35 non-null     float64\n",
      " 29  yearssincelastpromotion   1678 non-null   int64  \n",
      " 30  yearswithcurrmanager      1678 non-null   int64  \n",
      " 31  sameasmonthlyincome       1189 non-null   object \n",
      " 32  datebirth                 1678 non-null   int64  \n",
      " 33  salary                    1393 non-null   float64\n",
      " 34  roledepartament           312 non-null    object \n",
      " 35  remotework                1678 non-null   bool   \n",
      "dtypes: bool(1), float64(7), int64(17), object(11)\n",
      "memory usage: 473.6+ KB\n"
     ]
    }
   ],
   "source": [
    "df_limpio.info()"
   ]
  },
  {
   "cell_type": "markdown",
   "id": "5e5c0ebd",
   "metadata": {},
   "source": [
    "###\n",
    "- Continuación Carmen"
   ]
  },
  {
   "cell_type": "code",
   "execution_count": 55,
   "id": "b7a46baa",
   "metadata": {},
   "outputs": [
    {
     "data": {
      "text/html": [
       "<div>\n",
       "<style scoped>\n",
       "    .dataframe tbody tr th:only-of-type {\n",
       "        vertical-align: middle;\n",
       "    }\n",
       "\n",
       "    .dataframe tbody tr th {\n",
       "        vertical-align: top;\n",
       "    }\n",
       "\n",
       "    .dataframe thead th {\n",
       "        text-align: right;\n",
       "    }\n",
       "</style>\n",
       "<table border=\"1\" class=\"dataframe\">\n",
       "  <thead>\n",
       "    <tr style=\"text-align: right;\">\n",
       "      <th></th>\n",
       "      <th>age</th>\n",
       "      <th>attrition</th>\n",
       "      <th>businesstravel</th>\n",
       "      <th>dailyrate</th>\n",
       "      <th>department</th>\n",
       "      <th>distancefromhome</th>\n",
       "      <th>education</th>\n",
       "      <th>educationfield</th>\n",
       "      <th>employeenumber</th>\n",
       "      <th>environmentsatisfaction</th>\n",
       "      <th>gender</th>\n",
       "      <th>jobinvolvement</th>\n",
       "      <th>joblevel</th>\n",
       "      <th>jobrole</th>\n",
       "      <th>jobsatisfaction</th>\n",
       "      <th>maritalstatus</th>\n",
       "      <th>monthlyincome_$</th>\n",
       "      <th>monthlyrate_$</th>\n",
       "      <th>numcompaniesworked</th>\n",
       "      <th>overtime</th>\n",
       "      <th>percentsalaryhike</th>\n",
       "      <th>performancerating</th>\n",
       "      <th>relationshipsatisfaction</th>\n",
       "      <th>standardhours</th>\n",
       "      <th>stockoptionlevel</th>\n",
       "      <th>trainingtimeslastyear</th>\n",
       "      <th>worklifebalance</th>\n",
       "      <th>yearsatcompany</th>\n",
       "      <th>yearsincurrentrole</th>\n",
       "      <th>yearssincelastpromotion</th>\n",
       "      <th>yearswithcurrmanager</th>\n",
       "      <th>sameasmonthlyincome</th>\n",
       "      <th>datebirth</th>\n",
       "      <th>salary</th>\n",
       "      <th>roledepartament</th>\n",
       "      <th>remotework</th>\n",
       "    </tr>\n",
       "  </thead>\n",
       "  <tbody>\n",
       "  </tbody>\n",
       "</table>\n",
       "</div>"
      ],
      "text/plain": [
       "Empty DataFrame\n",
       "Columns: [age, attrition, businesstravel, dailyrate, department, distancefromhome, education, educationfield, employeenumber, environmentsatisfaction, gender, jobinvolvement, joblevel, jobrole, jobsatisfaction, maritalstatus, monthlyincome_$, monthlyrate_$, numcompaniesworked, overtime, percentsalaryhike, performancerating, relationshipsatisfaction, standardhours, stockoptionlevel, trainingtimeslastyear, worklifebalance, yearsatcompany, yearsincurrentrole, yearssincelastpromotion, yearswithcurrmanager, sameasmonthlyincome, datebirth, salary, roledepartament, remotework]\n",
       "Index: []"
      ]
     },
     "execution_count": 55,
     "metadata": {},
     "output_type": "execute_result"
    }
   ],
   "source": [
    "# Conversión\n",
    "cols = ['yearsatcompany', 'yearsincurrentrole', 'yearssincelastpromotion', 'yearswithcurrmanager']\n",
    "df_limpio[cols] = df_limpio[cols].apply(pd.to_numeric, errors='coerce')\n",
    "\n",
    "# Opcional: revisión de inconsistencias\n",
    "df_limpio[df_limpio['yearswithcurrmanager'] > df_limpio['yearsatcompany']]"
   ]
  },
  {
   "cell_type": "code",
   "execution_count": 56,
   "id": "2a8d43c5",
   "metadata": {},
   "outputs": [
    {
     "data": {
      "text/html": [
       "<div>\n",
       "<style scoped>\n",
       "    .dataframe tbody tr th:only-of-type {\n",
       "        vertical-align: middle;\n",
       "    }\n",
       "\n",
       "    .dataframe tbody tr th {\n",
       "        vertical-align: top;\n",
       "    }\n",
       "\n",
       "    .dataframe thead th {\n",
       "        text-align: right;\n",
       "    }\n",
       "</style>\n",
       "<table border=\"1\" class=\"dataframe\">\n",
       "  <thead>\n",
       "    <tr style=\"text-align: right;\">\n",
       "      <th></th>\n",
       "      <th>yearsatcompany</th>\n",
       "      <th>yearsincurrentrole</th>\n",
       "      <th>yearssincelastpromotion</th>\n",
       "      <th>yearswithcurrmanager</th>\n",
       "    </tr>\n",
       "  </thead>\n",
       "  <tbody>\n",
       "    <tr>\n",
       "      <th>0</th>\n",
       "      <td>20</td>\n",
       "      <td>NaN</td>\n",
       "      <td>15</td>\n",
       "      <td>15</td>\n",
       "    </tr>\n",
       "    <tr>\n",
       "      <th>1</th>\n",
       "      <td>33</td>\n",
       "      <td>NaN</td>\n",
       "      <td>11</td>\n",
       "      <td>9</td>\n",
       "    </tr>\n",
       "    <tr>\n",
       "      <th>2</th>\n",
       "      <td>22</td>\n",
       "      <td>NaN</td>\n",
       "      <td>11</td>\n",
       "      <td>15</td>\n",
       "    </tr>\n",
       "    <tr>\n",
       "      <th>3</th>\n",
       "      <td>20</td>\n",
       "      <td>NaN</td>\n",
       "      <td>5</td>\n",
       "      <td>6</td>\n",
       "    </tr>\n",
       "    <tr>\n",
       "      <th>4</th>\n",
       "      <td>19</td>\n",
       "      <td>NaN</td>\n",
       "      <td>2</td>\n",
       "      <td>8</td>\n",
       "    </tr>\n",
       "    <tr>\n",
       "      <th>...</th>\n",
       "      <td>...</td>\n",
       "      <td>...</td>\n",
       "      <td>...</td>\n",
       "      <td>...</td>\n",
       "    </tr>\n",
       "    <tr>\n",
       "      <th>1673</th>\n",
       "      <td>3</td>\n",
       "      <td>NaN</td>\n",
       "      <td>1</td>\n",
       "      <td>2</td>\n",
       "    </tr>\n",
       "    <tr>\n",
       "      <th>1674</th>\n",
       "      <td>5</td>\n",
       "      <td>NaN</td>\n",
       "      <td>1</td>\n",
       "      <td>0</td>\n",
       "    </tr>\n",
       "    <tr>\n",
       "      <th>1675</th>\n",
       "      <td>6</td>\n",
       "      <td>NaN</td>\n",
       "      <td>1</td>\n",
       "      <td>5</td>\n",
       "    </tr>\n",
       "    <tr>\n",
       "      <th>1676</th>\n",
       "      <td>22</td>\n",
       "      <td>NaN</td>\n",
       "      <td>14</td>\n",
       "      <td>10</td>\n",
       "    </tr>\n",
       "    <tr>\n",
       "      <th>1677</th>\n",
       "      <td>8</td>\n",
       "      <td>NaN</td>\n",
       "      <td>0</td>\n",
       "      <td>7</td>\n",
       "    </tr>\n",
       "  </tbody>\n",
       "</table>\n",
       "<p>1678 rows × 4 columns</p>\n",
       "</div>"
      ],
      "text/plain": [
       "      yearsatcompany  yearsincurrentrole  yearssincelastpromotion  \\\n",
       "0                 20                 NaN                       15   \n",
       "1                 33                 NaN                       11   \n",
       "2                 22                 NaN                       11   \n",
       "3                 20                 NaN                        5   \n",
       "4                 19                 NaN                        2   \n",
       "...              ...                 ...                      ...   \n",
       "1673               3                 NaN                        1   \n",
       "1674               5                 NaN                        1   \n",
       "1675               6                 NaN                        1   \n",
       "1676              22                 NaN                       14   \n",
       "1677               8                 NaN                        0   \n",
       "\n",
       "      yearswithcurrmanager  \n",
       "0                       15  \n",
       "1                        9  \n",
       "2                       15  \n",
       "3                        6  \n",
       "4                        8  \n",
       "...                    ...  \n",
       "1673                     2  \n",
       "1674                     0  \n",
       "1675                     5  \n",
       "1676                    10  \n",
       "1677                     7  \n",
       "\n",
       "[1678 rows x 4 columns]"
      ]
     },
     "execution_count": 56,
     "metadata": {},
     "output_type": "execute_result"
    }
   ],
   "source": [
    "df_limpio[cols] "
   ]
  },
  {
   "cell_type": "code",
   "execution_count": 57,
   "id": "f8b46bcf",
   "metadata": {},
   "outputs": [
    {
     "data": {
      "text/plain": [
       "\"# Alternativa más simple: elimina la columna si es redundante\\ndf_limpio.drop(columns='sameasmonthlyincome', inplace=True)\""
      ]
     },
     "execution_count": 57,
     "metadata": {},
     "output_type": "execute_result"
    }
   ],
   "source": [
    "# Si quieres mantenerlo y estandarizarlo:\n",
    "df_limpio['sameasmonthlyincome'] = df_limpio['sameasmonthlyincome'].str.replace('.', '', regex=False)\\\n",
    "                                                      .str.replace(',', '.', regex=False)\\\n",
    "                                                      .str.replace('$', '', regex=False)\n",
    "df_limpio['sameasmonthlyincome'] = pd.to_numeric(df_limpio['sameasmonthlyincome'], errors='coerce')\n",
    "\n",
    "# Luego compara\n",
    "(df_limpio['sameasmonthlyincome'] == df_limpio['monthlyincome_$']).value_counts()\n",
    "\n",
    "'''# Alternativa más simple: elimina la columna si es redundante\n",
    "df_limpio.drop(columns='sameasmonthlyincome', inplace=True)'''"
   ]
  },
  {
   "cell_type": "code",
   "execution_count": 58,
   "id": "11248288",
   "metadata": {},
   "outputs": [
    {
     "data": {
      "text/html": [
       "<div>\n",
       "<style scoped>\n",
       "    .dataframe tbody tr th:only-of-type {\n",
       "        vertical-align: middle;\n",
       "    }\n",
       "\n",
       "    .dataframe tbody tr th {\n",
       "        vertical-align: top;\n",
       "    }\n",
       "\n",
       "    .dataframe thead th {\n",
       "        text-align: right;\n",
       "    }\n",
       "</style>\n",
       "<table border=\"1\" class=\"dataframe\">\n",
       "  <thead>\n",
       "    <tr style=\"text-align: right;\">\n",
       "      <th></th>\n",
       "      <th>yearsatcompany</th>\n",
       "      <th>yearsincurrentrole</th>\n",
       "      <th>yearssincelastpromotion</th>\n",
       "      <th>yearswithcurrmanager</th>\n",
       "      <th>sameasmonthlyincome</th>\n",
       "      <th>datebirth</th>\n",
       "      <th>salary</th>\n",
       "      <th>roledepartament</th>\n",
       "      <th>remotework</th>\n",
       "    </tr>\n",
       "  </thead>\n",
       "  <tbody>\n",
       "    <tr>\n",
       "      <th>0</th>\n",
       "      <td>20</td>\n",
       "      <td>NaN</td>\n",
       "      <td>15</td>\n",
       "      <td>15</td>\n",
       "      <td>16280.83</td>\n",
       "      <td>1972</td>\n",
       "      <td>195370.00</td>\n",
       "      <td>NaN</td>\n",
       "      <td>True</td>\n",
       "    </tr>\n",
       "    <tr>\n",
       "      <th>1</th>\n",
       "      <td>33</td>\n",
       "      <td>NaN</td>\n",
       "      <td>11</td>\n",
       "      <td>9</td>\n",
       "      <td>NaN</td>\n",
       "      <td>1971</td>\n",
       "      <td>199990.00</td>\n",
       "      <td>NaN</td>\n",
       "      <td>True</td>\n",
       "    </tr>\n",
       "    <tr>\n",
       "      <th>2</th>\n",
       "      <td>22</td>\n",
       "      <td>NaN</td>\n",
       "      <td>11</td>\n",
       "      <td>15</td>\n",
       "      <td>NaN</td>\n",
       "      <td>1981</td>\n",
       "      <td>192320.00</td>\n",
       "      <td>manager  -  research &amp; development</td>\n",
       "      <td>True</td>\n",
       "    </tr>\n",
       "    <tr>\n",
       "      <th>3</th>\n",
       "      <td>20</td>\n",
       "      <td>NaN</td>\n",
       "      <td>5</td>\n",
       "      <td>6</td>\n",
       "      <td>14307.50</td>\n",
       "      <td>1976</td>\n",
       "      <td>171690.00</td>\n",
       "      <td>NaN</td>\n",
       "      <td>False</td>\n",
       "    </tr>\n",
       "    <tr>\n",
       "      <th>4</th>\n",
       "      <td>19</td>\n",
       "      <td>NaN</td>\n",
       "      <td>2</td>\n",
       "      <td>8</td>\n",
       "      <td>12783.92</td>\n",
       "      <td>1977</td>\n",
       "      <td>NaN</td>\n",
       "      <td>NaN</td>\n",
       "      <td>False</td>\n",
       "    </tr>\n",
       "    <tr>\n",
       "      <th>...</th>\n",
       "      <td>...</td>\n",
       "      <td>...</td>\n",
       "      <td>...</td>\n",
       "      <td>...</td>\n",
       "      <td>...</td>\n",
       "      <td>...</td>\n",
       "      <td>...</td>\n",
       "      <td>...</td>\n",
       "      <td>...</td>\n",
       "    </tr>\n",
       "    <tr>\n",
       "      <th>1673</th>\n",
       "      <td>3</td>\n",
       "      <td>NaN</td>\n",
       "      <td>1</td>\n",
       "      <td>2</td>\n",
       "      <td>3949.17</td>\n",
       "      <td>1980</td>\n",
       "      <td>NaN</td>\n",
       "      <td>NaN</td>\n",
       "      <td>True</td>\n",
       "    </tr>\n",
       "    <tr>\n",
       "      <th>1674</th>\n",
       "      <td>5</td>\n",
       "      <td>NaN</td>\n",
       "      <td>1</td>\n",
       "      <td>0</td>\n",
       "      <td>15943.72</td>\n",
       "      <td>1976</td>\n",
       "      <td>191324.62</td>\n",
       "      <td>NaN</td>\n",
       "      <td>False</td>\n",
       "    </tr>\n",
       "    <tr>\n",
       "      <th>1675</th>\n",
       "      <td>6</td>\n",
       "      <td>NaN</td>\n",
       "      <td>1</td>\n",
       "      <td>5</td>\n",
       "      <td>NaN</td>\n",
       "      <td>1994</td>\n",
       "      <td>28111.13</td>\n",
       "      <td>NaN</td>\n",
       "      <td>False</td>\n",
       "    </tr>\n",
       "    <tr>\n",
       "      <th>1676</th>\n",
       "      <td>22</td>\n",
       "      <td>NaN</td>\n",
       "      <td>14</td>\n",
       "      <td>10</td>\n",
       "      <td>8339.32</td>\n",
       "      <td>1976</td>\n",
       "      <td>100071.84</td>\n",
       "      <td>NaN</td>\n",
       "      <td>True</td>\n",
       "    </tr>\n",
       "    <tr>\n",
       "      <th>1677</th>\n",
       "      <td>8</td>\n",
       "      <td>NaN</td>\n",
       "      <td>0</td>\n",
       "      <td>7</td>\n",
       "      <td>NaN</td>\n",
       "      <td>1991</td>\n",
       "      <td>53914.11</td>\n",
       "      <td>NaN</td>\n",
       "      <td>False</td>\n",
       "    </tr>\n",
       "  </tbody>\n",
       "</table>\n",
       "<p>1678 rows × 9 columns</p>\n",
       "</div>"
      ],
      "text/plain": [
       "      yearsatcompany  yearsincurrentrole  yearssincelastpromotion  \\\n",
       "0                 20                 NaN                       15   \n",
       "1                 33                 NaN                       11   \n",
       "2                 22                 NaN                       11   \n",
       "3                 20                 NaN                        5   \n",
       "4                 19                 NaN                        2   \n",
       "...              ...                 ...                      ...   \n",
       "1673               3                 NaN                        1   \n",
       "1674               5                 NaN                        1   \n",
       "1675               6                 NaN                        1   \n",
       "1676              22                 NaN                       14   \n",
       "1677               8                 NaN                        0   \n",
       "\n",
       "      yearswithcurrmanager  sameasmonthlyincome  datebirth     salary  \\\n",
       "0                       15             16280.83       1972  195370.00   \n",
       "1                        9                  NaN       1971  199990.00   \n",
       "2                       15                  NaN       1981  192320.00   \n",
       "3                        6             14307.50       1976  171690.00   \n",
       "4                        8             12783.92       1977        NaN   \n",
       "...                    ...                  ...        ...        ...   \n",
       "1673                     2              3949.17       1980        NaN   \n",
       "1674                     0             15943.72       1976  191324.62   \n",
       "1675                     5                  NaN       1994   28111.13   \n",
       "1676                    10              8339.32       1976  100071.84   \n",
       "1677                     7                  NaN       1991   53914.11   \n",
       "\n",
       "                         roledepartament  remotework  \n",
       "0                                    NaN        True  \n",
       "1                                    NaN        True  \n",
       "2     manager  -  research & development        True  \n",
       "3                                    NaN       False  \n",
       "4                                    NaN       False  \n",
       "...                                  ...         ...  \n",
       "1673                                 NaN        True  \n",
       "1674                                 NaN       False  \n",
       "1675                                 NaN       False  \n",
       "1676                                 NaN        True  \n",
       "1677                                 NaN       False  \n",
       "\n",
       "[1678 rows x 9 columns]"
      ]
     },
     "execution_count": 58,
     "metadata": {},
     "output_type": "execute_result"
    }
   ],
   "source": [
    "df_limpio_c = df_limpio [['yearsatcompany', 'yearsincurrentrole',\n",
    "       'yearssincelastpromotion', 'yearswithcurrmanager',\n",
    "       'sameasmonthlyincome', 'datebirth', 'salary', 'roledepartament',\n",
    "       'remotework']]\n",
    "\n",
    "df_limpio_c"
   ]
  },
  {
   "cell_type": "code",
   "execution_count": 59,
   "id": "d2bb7405",
   "metadata": {},
   "outputs": [
    {
     "name": "stdout",
     "output_type": "stream",
     "text": [
      "Valores faltantes en 'yearsincurrentrole' ANTES: 1643\n",
      "Valores faltantes en 'yearsincurrentrole' DESPUÉS: 0\n",
      "\n",
      "Vista previa de las columnas después de la imputación:\n",
      "    yearsatcompany  yearssincelastpromotion  yearsincurrentrole\n",
      "0               20                       15                15.0\n",
      "1               33                       11                11.0\n",
      "2               22                       11                11.0\n",
      "3               20                        5                 5.0\n",
      "4               19                        2                 2.0\n",
      "5               22                        4                 4.0\n",
      "6               21                        7                 7.0\n",
      "7               20                       11                11.0\n",
      "8               18                       11                11.0\n",
      "9               18                        0                 0.0\n",
      "10              21                        5                 5.0\n",
      "11              19                       15                15.0\n",
      "12              18                        1                 1.0\n",
      "13              22                       15                15.0\n",
      "14              24                        2                 2.0\n",
      "15              20                        1                 1.0\n",
      "16              31                       13                13.0\n",
      "17              26                       15                15.0\n",
      "18              16                        1                 1.0\n",
      "19              18                       14                14.0\n"
     ]
    },
    {
     "name": "stderr",
     "output_type": "stream",
     "text": [
      "/tmp/ipykernel_1535035/2103246837.py:7: FutureWarning: A value is trying to be set on a copy of a DataFrame or Series through chained assignment using an inplace method.\n",
      "The behavior will change in pandas 3.0. This inplace method will never work because the intermediate object on which we are setting values always behaves as a copy.\n",
      "\n",
      "For example, when doing 'df[col].method(value, inplace=True)', try using 'df.method({col: value}, inplace=True)' or df[col] = df[col].method(value) instead, to perform the operation inplace on the original object.\n",
      "\n",
      "\n",
      "  df_limpio['yearsincurrentrole'].fillna(df_limpio['yearssincelastpromotion'], inplace=True)\n"
     ]
    }
   ],
   "source": [
    "print(f\"Valores faltantes en 'yearsincurrentrole' ANTES: {df_limpio['yearsincurrentrole'].isnull().sum()}\")\n",
    "\n",
    "# --- PASO 3: Imputar (rellenar) los valores faltantes ---\n",
    "# Usamos el método .fillna() para rellenar los NaN de 'yearsincurrentrole'\n",
    "# con los valores correspondientes de la columna 'yearssincelastpromotion'.\n",
    "# 'inplace=True' modifica el DataFrame directamente.\n",
    "df_limpio['yearsincurrentrole'].fillna(df_limpio['yearssincelastpromotion'], inplace=True)\n",
    "\n",
    "# --- PASO 4: Verificar el resultado ---\n",
    "# Ahora la columna debería estar completa.\n",
    "print(f\"Valores faltantes en 'yearsincurrentrole' DESPUÉS: {df_limpio['yearsincurrentrole'].isnull().sum()}\")\n",
    "\n",
    "# Opcional: Mostrar las primeras filas para ver el cambio\n",
    "print(\"\\nVista previa de las columnas después de la imputación:\")\n",
    "print(df_limpio[['yearsatcompany', 'yearssincelastpromotion', 'yearsincurrentrole']].head(20))"
   ]
  },
  {
   "cell_type": "code",
   "execution_count": 60,
   "id": "68e70dbe",
   "metadata": {},
   "outputs": [
    {
     "name": "stdout",
     "output_type": "stream",
     "text": [
      "\n",
      "Estadísticas descriptivas de las columnas numéricas:\n"
     ]
    },
    {
     "data": {
      "text/html": [
       "<div>\n",
       "<style scoped>\n",
       "    .dataframe tbody tr th:only-of-type {\n",
       "        vertical-align: middle;\n",
       "    }\n",
       "\n",
       "    .dataframe tbody tr th {\n",
       "        vertical-align: top;\n",
       "    }\n",
       "\n",
       "    .dataframe thead th {\n",
       "        text-align: right;\n",
       "    }\n",
       "</style>\n",
       "<table border=\"1\" class=\"dataframe\">\n",
       "  <thead>\n",
       "    <tr style=\"text-align: right;\">\n",
       "      <th></th>\n",
       "      <th>age</th>\n",
       "      <th>dailyrate</th>\n",
       "      <th>distancefromhome</th>\n",
       "      <th>education</th>\n",
       "      <th>employeenumber</th>\n",
       "      <th>environmentsatisfaction</th>\n",
       "      <th>jobinvolvement</th>\n",
       "      <th>joblevel</th>\n",
       "      <th>jobsatisfaction</th>\n",
       "      <th>monthlyincome_$</th>\n",
       "      <th>monthlyrate_$</th>\n",
       "      <th>numcompaniesworked</th>\n",
       "      <th>percentsalaryhike</th>\n",
       "      <th>performancerating</th>\n",
       "      <th>relationshipsatisfaction</th>\n",
       "      <th>stockoptionlevel</th>\n",
       "      <th>trainingtimeslastyear</th>\n",
       "      <th>worklifebalance</th>\n",
       "      <th>yearsatcompany</th>\n",
       "      <th>yearsincurrentrole</th>\n",
       "      <th>yearssincelastpromotion</th>\n",
       "      <th>yearswithcurrmanager</th>\n",
       "      <th>sameasmonthlyincome</th>\n",
       "      <th>datebirth</th>\n",
       "      <th>salary</th>\n",
       "    </tr>\n",
       "  </thead>\n",
       "  <tbody>\n",
       "    <tr>\n",
       "      <th>count</th>\n",
       "      <td>1678.000000</td>\n",
       "      <td>1678.000000</td>\n",
       "      <td>1678.000000</td>\n",
       "      <td>1678.000000</td>\n",
       "      <td>1678.000000</td>\n",
       "      <td>1678.000000</td>\n",
       "      <td>1678.000000</td>\n",
       "      <td>1678.000000</td>\n",
       "      <td>1678.000000</td>\n",
       "      <td>1189.000000</td>\n",
       "      <td>1678.000000</td>\n",
       "      <td>1678.000000</td>\n",
       "      <td>1678.000000</td>\n",
       "      <td>0.0</td>\n",
       "      <td>1678.000000</td>\n",
       "      <td>1678.000000</td>\n",
       "      <td>1678.000000</td>\n",
       "      <td>0.0</td>\n",
       "      <td>1678.000000</td>\n",
       "      <td>1678.000000</td>\n",
       "      <td>1678.000000</td>\n",
       "      <td>1678.000000</td>\n",
       "      <td>1189.000000</td>\n",
       "      <td>1678.000000</td>\n",
       "      <td>1393.000000</td>\n",
       "    </tr>\n",
       "    <tr>\n",
       "      <th>mean</th>\n",
       "      <td>38.952920</td>\n",
       "      <td>668.079714</td>\n",
       "      <td>11.184744</td>\n",
       "      <td>2.932658</td>\n",
       "      <td>809.859952</td>\n",
       "      <td>2.695471</td>\n",
       "      <td>2.740763</td>\n",
       "      <td>2.064362</td>\n",
       "      <td>2.743147</td>\n",
       "      <td>5676.787065</td>\n",
       "      <td>14029.674648</td>\n",
       "      <td>2.670441</td>\n",
       "      <td>15.154350</td>\n",
       "      <td>NaN</td>\n",
       "      <td>2.700238</td>\n",
       "      <td>0.787843</td>\n",
       "      <td>2.795590</td>\n",
       "      <td>NaN</td>\n",
       "      <td>7.124553</td>\n",
       "      <td>2.269964</td>\n",
       "      <td>2.241955</td>\n",
       "      <td>4.200238</td>\n",
       "      <td>5676.787065</td>\n",
       "      <td>1986.047080</td>\n",
       "      <td>65070.911587</td>\n",
       "    </tr>\n",
       "    <tr>\n",
       "      <th>std</th>\n",
       "      <td>9.154908</td>\n",
       "      <td>470.787298</td>\n",
       "      <td>10.479008</td>\n",
       "      <td>1.024270</td>\n",
       "      <td>467.084867</td>\n",
       "      <td>1.107083</td>\n",
       "      <td>0.710359</td>\n",
       "      <td>1.099425</td>\n",
       "      <td>1.105172</td>\n",
       "      <td>6157.859086</td>\n",
       "      <td>9886.532728</td>\n",
       "      <td>2.501133</td>\n",
       "      <td>3.649607</td>\n",
       "      <td>NaN</td>\n",
       "      <td>1.079494</td>\n",
       "      <td>0.843252</td>\n",
       "      <td>1.288657</td>\n",
       "      <td>NaN</td>\n",
       "      <td>6.173837</td>\n",
       "      <td>3.254711</td>\n",
       "      <td>3.246554</td>\n",
       "      <td>3.554224</td>\n",
       "      <td>6157.859086</td>\n",
       "      <td>9.154908</td>\n",
       "      <td>45849.510802</td>\n",
       "    </tr>\n",
       "    <tr>\n",
       "      <th>min</th>\n",
       "      <td>20.000000</td>\n",
       "      <td>104.103175</td>\n",
       "      <td>1.000000</td>\n",
       "      <td>1.000000</td>\n",
       "      <td>1.000000</td>\n",
       "      <td>1.000000</td>\n",
       "      <td>1.000000</td>\n",
       "      <td>1.000000</td>\n",
       "      <td>1.000000</td>\n",
       "      <td>1000.000000</td>\n",
       "      <td>2186.170000</td>\n",
       "      <td>0.000000</td>\n",
       "      <td>11.000000</td>\n",
       "      <td>NaN</td>\n",
       "      <td>1.000000</td>\n",
       "      <td>0.000000</td>\n",
       "      <td>0.000000</td>\n",
       "      <td>NaN</td>\n",
       "      <td>0.000000</td>\n",
       "      <td>0.000000</td>\n",
       "      <td>0.000000</td>\n",
       "      <td>0.000000</td>\n",
       "      <td>1000.000000</td>\n",
       "      <td>1963.000000</td>\n",
       "      <td>10090.000000</td>\n",
       "    </tr>\n",
       "    <tr>\n",
       "      <th>25%</th>\n",
       "      <td>32.000000</td>\n",
       "      <td>290.035510</td>\n",
       "      <td>2.000000</td>\n",
       "      <td>2.000000</td>\n",
       "      <td>403.250000</td>\n",
       "      <td>2.000000</td>\n",
       "      <td>2.000000</td>\n",
       "      <td>1.000000</td>\n",
       "      <td>2.000000</td>\n",
       "      <td>2342.590000</td>\n",
       "      <td>6090.750000</td>\n",
       "      <td>1.000000</td>\n",
       "      <td>12.000000</td>\n",
       "      <td>NaN</td>\n",
       "      <td>2.000000</td>\n",
       "      <td>0.000000</td>\n",
       "      <td>2.000000</td>\n",
       "      <td>NaN</td>\n",
       "      <td>3.000000</td>\n",
       "      <td>0.000000</td>\n",
       "      <td>0.000000</td>\n",
       "      <td>2.000000</td>\n",
       "      <td>2342.590000</td>\n",
       "      <td>1980.000000</td>\n",
       "      <td>28111.130000</td>\n",
       "    </tr>\n",
       "    <tr>\n",
       "      <th>50%</th>\n",
       "      <td>38.000000</td>\n",
       "      <td>556.256661</td>\n",
       "      <td>8.000000</td>\n",
       "      <td>3.000000</td>\n",
       "      <td>813.500000</td>\n",
       "      <td>3.000000</td>\n",
       "      <td>3.000000</td>\n",
       "      <td>2.000000</td>\n",
       "      <td>3.000000</td>\n",
       "      <td>4492.840000</td>\n",
       "      <td>11681.390000</td>\n",
       "      <td>2.000000</td>\n",
       "      <td>14.000000</td>\n",
       "      <td>NaN</td>\n",
       "      <td>3.000000</td>\n",
       "      <td>1.000000</td>\n",
       "      <td>3.000000</td>\n",
       "      <td>NaN</td>\n",
       "      <td>5.000000</td>\n",
       "      <td>1.000000</td>\n",
       "      <td>1.000000</td>\n",
       "      <td>3.000000</td>\n",
       "      <td>4492.840000</td>\n",
       "      <td>1987.000000</td>\n",
       "      <td>53914.110000</td>\n",
       "    </tr>\n",
       "    <tr>\n",
       "      <th>75%</th>\n",
       "      <td>45.000000</td>\n",
       "      <td>971.956349</td>\n",
       "      <td>17.000000</td>\n",
       "      <td>4.000000</td>\n",
       "      <td>1215.750000</td>\n",
       "      <td>4.000000</td>\n",
       "      <td>3.000000</td>\n",
       "      <td>3.000000</td>\n",
       "      <td>4.000000</td>\n",
       "      <td>7861.670000</td>\n",
       "      <td>20411.080000</td>\n",
       "      <td>4.000000</td>\n",
       "      <td>18.000000</td>\n",
       "      <td>NaN</td>\n",
       "      <td>4.000000</td>\n",
       "      <td>1.000000</td>\n",
       "      <td>3.000000</td>\n",
       "      <td>NaN</td>\n",
       "      <td>9.000000</td>\n",
       "      <td>3.000000</td>\n",
       "      <td>3.000000</td>\n",
       "      <td>7.000000</td>\n",
       "      <td>7861.670000</td>\n",
       "      <td>1993.000000</td>\n",
       "      <td>94390.000000</td>\n",
       "    </tr>\n",
       "    <tr>\n",
       "      <th>max</th>\n",
       "      <td>62.000000</td>\n",
       "      <td>2063.388889</td>\n",
       "      <td>49.000000</td>\n",
       "      <td>5.000000</td>\n",
       "      <td>1614.000000</td>\n",
       "      <td>4.000000</td>\n",
       "      <td>4.000000</td>\n",
       "      <td>5.000000</td>\n",
       "      <td>4.000000</td>\n",
       "      <td>94083.000000</td>\n",
       "      <td>43331.170000</td>\n",
       "      <td>9.000000</td>\n",
       "      <td>25.000000</td>\n",
       "      <td>NaN</td>\n",
       "      <td>4.000000</td>\n",
       "      <td>3.000000</td>\n",
       "      <td>6.000000</td>\n",
       "      <td>NaN</td>\n",
       "      <td>40.000000</td>\n",
       "      <td>15.000000</td>\n",
       "      <td>15.000000</td>\n",
       "      <td>17.000000</td>\n",
       "      <td>94083.000000</td>\n",
       "      <td>2005.000000</td>\n",
       "      <td>199990.000000</td>\n",
       "    </tr>\n",
       "  </tbody>\n",
       "</table>\n",
       "</div>"
      ],
      "text/plain": [
       "               age    dailyrate  distancefromhome    education  \\\n",
       "count  1678.000000  1678.000000       1678.000000  1678.000000   \n",
       "mean     38.952920   668.079714         11.184744     2.932658   \n",
       "std       9.154908   470.787298         10.479008     1.024270   \n",
       "min      20.000000   104.103175          1.000000     1.000000   \n",
       "25%      32.000000   290.035510          2.000000     2.000000   \n",
       "50%      38.000000   556.256661          8.000000     3.000000   \n",
       "75%      45.000000   971.956349         17.000000     4.000000   \n",
       "max      62.000000  2063.388889         49.000000     5.000000   \n",
       "\n",
       "       employeenumber  environmentsatisfaction  jobinvolvement     joblevel  \\\n",
       "count     1678.000000              1678.000000     1678.000000  1678.000000   \n",
       "mean       809.859952                 2.695471        2.740763     2.064362   \n",
       "std        467.084867                 1.107083        0.710359     1.099425   \n",
       "min          1.000000                 1.000000        1.000000     1.000000   \n",
       "25%        403.250000                 2.000000        2.000000     1.000000   \n",
       "50%        813.500000                 3.000000        3.000000     2.000000   \n",
       "75%       1215.750000                 4.000000        3.000000     3.000000   \n",
       "max       1614.000000                 4.000000        4.000000     5.000000   \n",
       "\n",
       "       jobsatisfaction  monthlyincome_$  monthlyrate_$  numcompaniesworked  \\\n",
       "count      1678.000000      1189.000000    1678.000000         1678.000000   \n",
       "mean          2.743147      5676.787065   14029.674648            2.670441   \n",
       "std           1.105172      6157.859086    9886.532728            2.501133   \n",
       "min           1.000000      1000.000000    2186.170000            0.000000   \n",
       "25%           2.000000      2342.590000    6090.750000            1.000000   \n",
       "50%           3.000000      4492.840000   11681.390000            2.000000   \n",
       "75%           4.000000      7861.670000   20411.080000            4.000000   \n",
       "max           4.000000     94083.000000   43331.170000            9.000000   \n",
       "\n",
       "       percentsalaryhike  performancerating  relationshipsatisfaction  \\\n",
       "count        1678.000000                0.0               1678.000000   \n",
       "mean           15.154350                NaN                  2.700238   \n",
       "std             3.649607                NaN                  1.079494   \n",
       "min            11.000000                NaN                  1.000000   \n",
       "25%            12.000000                NaN                  2.000000   \n",
       "50%            14.000000                NaN                  3.000000   \n",
       "75%            18.000000                NaN                  4.000000   \n",
       "max            25.000000                NaN                  4.000000   \n",
       "\n",
       "       stockoptionlevel  trainingtimeslastyear  worklifebalance  \\\n",
       "count       1678.000000            1678.000000              0.0   \n",
       "mean           0.787843               2.795590              NaN   \n",
       "std            0.843252               1.288657              NaN   \n",
       "min            0.000000               0.000000              NaN   \n",
       "25%            0.000000               2.000000              NaN   \n",
       "50%            1.000000               3.000000              NaN   \n",
       "75%            1.000000               3.000000              NaN   \n",
       "max            3.000000               6.000000              NaN   \n",
       "\n",
       "       yearsatcompany  yearsincurrentrole  yearssincelastpromotion  \\\n",
       "count     1678.000000         1678.000000              1678.000000   \n",
       "mean         7.124553            2.269964                 2.241955   \n",
       "std          6.173837            3.254711                 3.246554   \n",
       "min          0.000000            0.000000                 0.000000   \n",
       "25%          3.000000            0.000000                 0.000000   \n",
       "50%          5.000000            1.000000                 1.000000   \n",
       "75%          9.000000            3.000000                 3.000000   \n",
       "max         40.000000           15.000000                15.000000   \n",
       "\n",
       "       yearswithcurrmanager  sameasmonthlyincome    datebirth         salary  \n",
       "count           1678.000000          1189.000000  1678.000000    1393.000000  \n",
       "mean               4.200238          5676.787065  1986.047080   65070.911587  \n",
       "std                3.554224          6157.859086     9.154908   45849.510802  \n",
       "min                0.000000          1000.000000  1963.000000   10090.000000  \n",
       "25%                2.000000          2342.590000  1980.000000   28111.130000  \n",
       "50%                3.000000          4492.840000  1987.000000   53914.110000  \n",
       "75%                7.000000          7861.670000  1993.000000   94390.000000  \n",
       "max               17.000000         94083.000000  2005.000000  199990.000000  "
      ]
     },
     "execution_count": 60,
     "metadata": {},
     "output_type": "execute_result"
    }
   ],
   "source": [
    "columnas_numericas = df_limpio.select_dtypes(include=['number'])\n",
    "estadisticas_descriptivas = columnas_numericas.describe()\n",
    "print(\"\\nEstadísticas descriptivas de las columnas numéricas:\")\n",
    "estadisticas_descriptivas"
   ]
  },
  {
   "cell_type": "code",
   "execution_count": 61,
   "id": "869a829b",
   "metadata": {},
   "outputs": [
    {
     "data": {
      "text/plain": [
       "age                            0\n",
       "dailyrate                      0\n",
       "distancefromhome               0\n",
       "education                      0\n",
       "employeenumber                 0\n",
       "environmentsatisfaction        0\n",
       "jobinvolvement                 0\n",
       "joblevel                       0\n",
       "jobsatisfaction                0\n",
       "monthlyincome_$              489\n",
       "monthlyrate_$                  0\n",
       "numcompaniesworked             0\n",
       "percentsalaryhike              0\n",
       "performancerating           1678\n",
       "relationshipsatisfaction       0\n",
       "stockoptionlevel               0\n",
       "trainingtimeslastyear          0\n",
       "worklifebalance             1678\n",
       "yearsatcompany                 0\n",
       "yearsincurrentrole             0\n",
       "yearssincelastpromotion        0\n",
       "yearswithcurrmanager           0\n",
       "sameasmonthlyincome          489\n",
       "datebirth                      0\n",
       "salary                       285\n",
       "dtype: int64"
      ]
     },
     "execution_count": 61,
     "metadata": {},
     "output_type": "execute_result"
    }
   ],
   "source": [
    "columnas_numericas.isnull().sum()"
   ]
  },
  {
   "cell_type": "code",
   "execution_count": 62,
   "id": "437b24bd",
   "metadata": {},
   "outputs": [
    {
     "data": {
      "text/plain": [
       "Index(['age', 'attrition', 'businesstravel', 'dailyrate', 'department',\n",
       "       'distancefromhome', 'education', 'educationfield', 'employeenumber',\n",
       "       'environmentsatisfaction', 'gender', 'jobinvolvement', 'joblevel',\n",
       "       'jobrole', 'jobsatisfaction', 'maritalstatus', 'monthlyincome_$',\n",
       "       'monthlyrate_$', 'numcompaniesworked', 'overtime', 'percentsalaryhike',\n",
       "       'performancerating', 'relationshipsatisfaction', 'standardhours',\n",
       "       'stockoptionlevel', 'trainingtimeslastyear', 'worklifebalance',\n",
       "       'yearsatcompany', 'yearsincurrentrole', 'yearssincelastpromotion',\n",
       "       'yearswithcurrmanager', 'sameasmonthlyincome', 'datebirth', 'salary',\n",
       "       'roledepartament', 'remotework'],\n",
       "      dtype='object')"
      ]
     },
     "execution_count": 62,
     "metadata": {},
     "output_type": "execute_result"
    }
   ],
   "source": [
    "df_limpio.columns"
   ]
  },
  {
   "cell_type": "code",
   "execution_count": 63,
   "id": "53ab3e0b",
   "metadata": {},
   "outputs": [
    {
     "data": {
      "text/plain": [
       "0       195369.96\n",
       "1             NaN\n",
       "2             NaN\n",
       "3       171690.00\n",
       "4       153407.04\n",
       "          ...    \n",
       "1673     47390.04\n",
       "1674    191324.64\n",
       "1675          NaN\n",
       "1676    100071.84\n",
       "1677          NaN\n",
       "Name: monthlyincome_$, Length: 1678, dtype: float64"
      ]
     },
     "execution_count": 63,
     "metadata": {},
     "output_type": "execute_result"
    }
   ],
   "source": [
    "test_salary = df_limpio[\"monthlyincome_$\"]*12\n",
    "test_salary"
   ]
  },
  {
   "cell_type": "code",
   "execution_count": 64,
   "id": "46e3d056",
   "metadata": {},
   "outputs": [
    {
     "name": "stdout",
     "output_type": "stream",
     "text": [
      "Valores faltantes ANTES de la limpieza:\n",
      "salary                 285\n",
      "monthlyincome_$        489\n",
      "sameasmonthlyincome    489\n",
      "dtype: int64\n",
      "\n",
      "Confirmado: 'sameasmonthlyincome' es una copia exacta de 'monthlyincome_$'.\n",
      "Columna 'sameasmonthlyincome' eliminada.\n",
      "\n",
      "Valores faltantes DESPUÉS de la limpieza:\n",
      "salary             285\n",
      "monthlyincome_$    489\n",
      "dtype: int64\n"
     ]
    }
   ],
   "source": [
    "# Columnas a convertir\n",
    "cols_to_numeric = ['salary', 'monthlyincome_$', 'sameasmonthlyincome']\n",
    "\n",
    "# Imprimir el estado inicial\n",
    "print(\"Valores faltantes ANTES de la limpieza:\")\n",
    "print(df_limpio[cols_to_numeric].isnull().sum())\n",
    "\n",
    "# Convertir a numérico\n",
    "for col in cols_to_numeric:\n",
    "    df_limpio[col] = pd.to_numeric(df_limpio[col], errors='coerce')\n",
    "\n",
    "# Verificar si 'monthlyincome' y 'sameasmonthlyincome' son idénticas\n",
    "# El método .equals() es perfecto para esto, ya que compara los valores y los NaN\n",
    "if df_limpio['monthlyincome_$'].equals(df_limpio['sameasmonthlyincome']):\n",
    "    print(\"\\nConfirmado: 'sameasmonthlyincome' es una copia exacta de 'monthlyincome_$'.\")\n",
    "    # Eliminamos la columna redundante\n",
    "    df_limpio.drop(columns=['sameasmonthlyincome'], inplace=True)\n",
    "    print(\"Columna 'sameasmonthlyincome' eliminada.\")\n",
    "else:\n",
    "    print(\"\\n'sameasmonthlyincome' no es una copia exacta de 'monthlyincome'. Se recomienda investigar más a fondo.\")\n",
    "\n",
    "# Imprimir el estado después de la limpieza y eliminación\n",
    "print(\"\\nValores faltantes DESPUÉS de la limpieza:\")\n",
    "print(df_limpio[['salary', 'monthlyincome_$']].isnull().sum())"
   ]
  },
  {
   "cell_type": "code",
   "execution_count": 65,
   "id": "01ee7e86",
   "metadata": {},
   "outputs": [
    {
     "name": "stderr",
     "output_type": "stream",
     "text": [
      "/tmp/ipykernel_1535035/4150488881.py:2: FutureWarning: A value is trying to be set on a copy of a DataFrame or Series through chained assignment using an inplace method.\n",
      "The behavior will change in pandas 3.0. This inplace method will never work because the intermediate object on which we are setting values always behaves as a copy.\n",
      "\n",
      "For example, when doing 'df[col].method(value, inplace=True)', try using 'df.method({col: value}, inplace=True)' or df[col] = df[col].method(value) instead, to perform the operation inplace on the original object.\n",
      "\n",
      "\n",
      "  df_limpio['salary'].fillna(df_limpio['monthlyincome_$'] * 12, inplace=True)\n"
     ]
    }
   ],
   "source": [
    "# Rellenar 'salary' usando 'monthlyincome'\n",
    "df_limpio['salary'].fillna(df_limpio['monthlyincome_$'] * 12, inplace=True)"
   ]
  },
  {
   "cell_type": "code",
   "execution_count": 66,
   "id": "3deeff05",
   "metadata": {},
   "outputs": [
    {
     "data": {
      "text/html": [
       "<div>\n",
       "<style scoped>\n",
       "    .dataframe tbody tr th:only-of-type {\n",
       "        vertical-align: middle;\n",
       "    }\n",
       "\n",
       "    .dataframe tbody tr th {\n",
       "        vertical-align: top;\n",
       "    }\n",
       "\n",
       "    .dataframe thead th {\n",
       "        text-align: right;\n",
       "    }\n",
       "</style>\n",
       "<table border=\"1\" class=\"dataframe\">\n",
       "  <thead>\n",
       "    <tr style=\"text-align: right;\">\n",
       "      <th></th>\n",
       "      <th>monthlyincome_$</th>\n",
       "      <th>salary</th>\n",
       "      <th>dailyrate</th>\n",
       "    </tr>\n",
       "  </thead>\n",
       "  <tbody>\n",
       "    <tr>\n",
       "      <th>0</th>\n",
       "      <td>16280.83</td>\n",
       "      <td>195370.00</td>\n",
       "      <td>2015.722222</td>\n",
       "    </tr>\n",
       "    <tr>\n",
       "      <th>1</th>\n",
       "      <td>NaN</td>\n",
       "      <td>199990.00</td>\n",
       "      <td>2063.388889</td>\n",
       "    </tr>\n",
       "    <tr>\n",
       "      <th>2</th>\n",
       "      <td>NaN</td>\n",
       "      <td>192320.00</td>\n",
       "      <td>1984.253968</td>\n",
       "    </tr>\n",
       "    <tr>\n",
       "      <th>3</th>\n",
       "      <td>14307.50</td>\n",
       "      <td>171690.00</td>\n",
       "      <td>1771.404762</td>\n",
       "    </tr>\n",
       "    <tr>\n",
       "      <th>4</th>\n",
       "      <td>12783.92</td>\n",
       "      <td>153407.04</td>\n",
       "      <td>1582.771346</td>\n",
       "    </tr>\n",
       "    <tr>\n",
       "      <th>...</th>\n",
       "      <td>...</td>\n",
       "      <td>...</td>\n",
       "      <td>...</td>\n",
       "    </tr>\n",
       "    <tr>\n",
       "      <th>1673</th>\n",
       "      <td>3949.17</td>\n",
       "      <td>47390.04</td>\n",
       "      <td>488.944444</td>\n",
       "    </tr>\n",
       "    <tr>\n",
       "      <th>1674</th>\n",
       "      <td>15943.72</td>\n",
       "      <td>191324.62</td>\n",
       "      <td>1973.984127</td>\n",
       "    </tr>\n",
       "    <tr>\n",
       "      <th>1675</th>\n",
       "      <td>NaN</td>\n",
       "      <td>28111.13</td>\n",
       "      <td>290.035510</td>\n",
       "    </tr>\n",
       "    <tr>\n",
       "      <th>1676</th>\n",
       "      <td>8339.32</td>\n",
       "      <td>100071.84</td>\n",
       "      <td>1032.487286</td>\n",
       "    </tr>\n",
       "    <tr>\n",
       "      <th>1677</th>\n",
       "      <td>NaN</td>\n",
       "      <td>53914.11</td>\n",
       "      <td>556.256661</td>\n",
       "    </tr>\n",
       "  </tbody>\n",
       "</table>\n",
       "<p>1678 rows × 3 columns</p>\n",
       "</div>"
      ],
      "text/plain": [
       "      monthlyincome_$     salary    dailyrate\n",
       "0            16280.83  195370.00  2015.722222\n",
       "1                 NaN  199990.00  2063.388889\n",
       "2                 NaN  192320.00  1984.253968\n",
       "3            14307.50  171690.00  1771.404762\n",
       "4            12783.92  153407.04  1582.771346\n",
       "...               ...        ...          ...\n",
       "1673          3949.17   47390.04   488.944444\n",
       "1674         15943.72  191324.62  1973.984127\n",
       "1675              NaN   28111.13   290.035510\n",
       "1676          8339.32  100071.84  1032.487286\n",
       "1677              NaN   53914.11   556.256661\n",
       "\n",
       "[1678 rows x 3 columns]"
      ]
     },
     "execution_count": 66,
     "metadata": {},
     "output_type": "execute_result"
    }
   ],
   "source": [
    "df_income = df_limpio[['monthlyincome_$', 'salary', 'dailyrate']]\n",
    "df_income"
   ]
  },
  {
   "cell_type": "code",
   "execution_count": 67,
   "id": "e0b696c5",
   "metadata": {},
   "outputs": [
    {
     "data": {
      "text/plain": [
       "0"
      ]
     },
     "execution_count": 67,
     "metadata": {},
     "output_type": "execute_result"
    }
   ],
   "source": [
    "df_limpio['salary'].isna().sum()"
   ]
  },
  {
   "cell_type": "code",
   "execution_count": null,
   "id": "b4cf3079",
   "metadata": {},
   "outputs": [],
   "source": [
    "'''\n",
    "# Rellenar 'monthlyincome' usando 'salary'\n",
    "df_carmen['monthlyincome'].fillna(df_carmen['salary'] / 12, inplace=True)\n",
    "\n",
    "print(\"\\nValores faltantes después de la imputación cruzada:\")\n",
    "print(df_carmen[['salary', 'monthlyincome']].isnull().sum())\n",
    "'''"
   ]
  },
  {
   "cell_type": "code",
   "execution_count": null,
   "id": "72c817ff",
   "metadata": {},
   "outputs": [],
   "source": [
    "'''# Comprobamos si aún quedan nulos\n",
    "if df_carmen['monthlyincome'].isnull().any():\n",
    "    print(\"\\nAún quedan valores nulos. Usando 'dailyrate' para rellenarlos.\")\n",
    "    \n",
    "    # Rellenar 'monthlyincome' usando 'dailyrate'\n",
    "    # Asumimos 20 días laborables por mes. Es una aproximación, pero es mejor que nada.\n",
    "    df_carmen['monthlyincome'].fillna(df_carmen['dailyrate'] * 20, inplace=True)\n",
    "    \n",
    "    # Volvemos a rellenar 'salary' con los nuevos valores de 'monthlyincome'\n",
    "    df_carmen['salary'].fillna(df_carmen['monthlyincome'] * 12, inplace=True)\n",
    "\n",
    "print(\"\\nValores faltantes al FINAL del proceso:\")\n",
    "print(df_carmen[['salary', 'monthlyincome']].isnull().sum())\n",
    "\n",
    "# Mostramos una vista previa del resultado\n",
    "print(\"\\nVista previa de los datos imputados:\")\n",
    "print(df_carmen[['salary', 'monthlyincome', 'dailyrate']].head())'''"
   ]
  }
 ],
 "metadata": {
  "kernelspec": {
   "display_name": "base",
   "language": "python",
   "name": "python3"
  },
  "language_info": {
   "codemirror_mode": {
    "name": "ipython",
    "version": 3
   },
   "file_extension": ".py",
   "mimetype": "text/x-python",
   "name": "python",
   "nbconvert_exporter": "python",
   "pygments_lexer": "ipython3",
   "version": "3.12.7"
  }
 },
 "nbformat": 4,
 "nbformat_minor": 5
}
