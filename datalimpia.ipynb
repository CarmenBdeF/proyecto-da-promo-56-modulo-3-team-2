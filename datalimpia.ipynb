{
 "cells": [
  {
   "cell_type": "markdown",
   "id": "137424ce",
   "metadata": {},
   "source": [
    "### Limpieza conjunta"
   ]
  },
  {
   "cell_type": "code",
   "execution_count": 1,
   "id": "077dc7a9",
   "metadata": {},
   "outputs": [],
   "source": [
    "#IMPORTANDO LIBRERIAS NECESARIAS\n",
    "import numpy as np\n",
    "import pandas as pd\n",
    "pd.set_option('display.max_columns', None)"
   ]
  },
  {
   "cell_type": "code",
   "execution_count": 2,
   "id": "7fc84756",
   "metadata": {},
   "outputs": [
    {
     "data": {
      "text/html": [
       "<div>\n",
       "<style scoped>\n",
       "    .dataframe tbody tr th:only-of-type {\n",
       "        vertical-align: middle;\n",
       "    }\n",
       "\n",
       "    .dataframe tbody tr th {\n",
       "        vertical-align: top;\n",
       "    }\n",
       "\n",
       "    .dataframe thead th {\n",
       "        text-align: right;\n",
       "    }\n",
       "</style>\n",
       "<table border=\"1\" class=\"dataframe\">\n",
       "  <thead>\n",
       "    <tr style=\"text-align: right;\">\n",
       "      <th></th>\n",
       "      <th>age</th>\n",
       "      <th>attrition</th>\n",
       "      <th>businesstravel</th>\n",
       "      <th>dailyrate</th>\n",
       "      <th>department</th>\n",
       "      <th>distancefromhome</th>\n",
       "      <th>education</th>\n",
       "      <th>educationfield</th>\n",
       "      <th>employeecount</th>\n",
       "      <th>employeenumber</th>\n",
       "      <th>environmentsatisfaction</th>\n",
       "      <th>gender</th>\n",
       "      <th>hourlyrate</th>\n",
       "      <th>jobinvolvement</th>\n",
       "      <th>joblevel</th>\n",
       "      <th>jobrole</th>\n",
       "      <th>jobsatisfaction</th>\n",
       "      <th>maritalstatus</th>\n",
       "      <th>monthlyincome</th>\n",
       "      <th>monthlyrate</th>\n",
       "      <th>numcompaniesworked</th>\n",
       "      <th>over18</th>\n",
       "      <th>overtime</th>\n",
       "      <th>percentsalaryhike</th>\n",
       "      <th>performancerating</th>\n",
       "      <th>relationshipsatisfaction</th>\n",
       "      <th>standardhours</th>\n",
       "      <th>stockoptionlevel</th>\n",
       "      <th>totalworkingyears</th>\n",
       "      <th>trainingtimeslastyear</th>\n",
       "      <th>worklifebalance</th>\n",
       "      <th>yearsatcompany</th>\n",
       "      <th>yearsincurrentrole</th>\n",
       "      <th>yearssincelastpromotion</th>\n",
       "      <th>yearswithcurrmanager</th>\n",
       "      <th>sameasmonthlyincome</th>\n",
       "      <th>datebirth</th>\n",
       "      <th>salary</th>\n",
       "      <th>roledepartament</th>\n",
       "      <th>numberchildren</th>\n",
       "      <th>remotework</th>\n",
       "    </tr>\n",
       "  </thead>\n",
       "  <tbody>\n",
       "    <tr>\n",
       "      <th>0</th>\n",
       "      <td>51</td>\n",
       "      <td>No</td>\n",
       "      <td>NaN</td>\n",
       "      <td>2015.722222</td>\n",
       "      <td>NaN</td>\n",
       "      <td>6</td>\n",
       "      <td>3</td>\n",
       "      <td>NaN</td>\n",
       "      <td>1</td>\n",
       "      <td>1</td>\n",
       "      <td>1</td>\n",
       "      <td>0</td>\n",
       "      <td>NaN</td>\n",
       "      <td>3</td>\n",
       "      <td>5</td>\n",
       "      <td>resEArch DIREcToR</td>\n",
       "      <td>3</td>\n",
       "      <td>NaN</td>\n",
       "      <td>16280,83$</td>\n",
       "      <td>42330,17$</td>\n",
       "      <td>7</td>\n",
       "      <td>Y</td>\n",
       "      <td>No</td>\n",
       "      <td>13</td>\n",
       "      <td>3,0</td>\n",
       "      <td>3</td>\n",
       "      <td>Full Time</td>\n",
       "      <td>0</td>\n",
       "      <td>NaN</td>\n",
       "      <td>5</td>\n",
       "      <td>3,0</td>\n",
       "      <td>20</td>\n",
       "      <td>NaN</td>\n",
       "      <td>15</td>\n",
       "      <td>15</td>\n",
       "      <td>16280,83$</td>\n",
       "      <td>1972</td>\n",
       "      <td>195370,00$</td>\n",
       "      <td>NaN</td>\n",
       "      <td>NaN</td>\n",
       "      <td>Yes</td>\n",
       "    </tr>\n",
       "    <tr>\n",
       "      <th>1</th>\n",
       "      <td>52</td>\n",
       "      <td>No</td>\n",
       "      <td>NaN</td>\n",
       "      <td>2063.388889</td>\n",
       "      <td>NaN</td>\n",
       "      <td>1</td>\n",
       "      <td>4</td>\n",
       "      <td>Life Sciences</td>\n",
       "      <td>1</td>\n",
       "      <td>2</td>\n",
       "      <td>3</td>\n",
       "      <td>0</td>\n",
       "      <td>NaN</td>\n",
       "      <td>2</td>\n",
       "      <td>5</td>\n",
       "      <td>ManAGeR</td>\n",
       "      <td>3</td>\n",
       "      <td>NaN</td>\n",
       "      <td>NaN</td>\n",
       "      <td>43331,17$</td>\n",
       "      <td>0</td>\n",
       "      <td>NaN</td>\n",
       "      <td>NaN</td>\n",
       "      <td>14</td>\n",
       "      <td>3,0</td>\n",
       "      <td>1</td>\n",
       "      <td>NaN</td>\n",
       "      <td>1</td>\n",
       "      <td>34,0</td>\n",
       "      <td>5</td>\n",
       "      <td>3,0</td>\n",
       "      <td>33</td>\n",
       "      <td>NaN</td>\n",
       "      <td>11</td>\n",
       "      <td>9</td>\n",
       "      <td>NaN</td>\n",
       "      <td>1971</td>\n",
       "      <td>199990,00$</td>\n",
       "      <td>NaN</td>\n",
       "      <td>NaN</td>\n",
       "      <td>1</td>\n",
       "    </tr>\n",
       "    <tr>\n",
       "      <th>2</th>\n",
       "      <td>42</td>\n",
       "      <td>No</td>\n",
       "      <td>travel_rarely</td>\n",
       "      <td>1984.253968</td>\n",
       "      <td>Research &amp; Development</td>\n",
       "      <td>4</td>\n",
       "      <td>2</td>\n",
       "      <td>Technical Degree</td>\n",
       "      <td>1</td>\n",
       "      <td>3</td>\n",
       "      <td>3</td>\n",
       "      <td>0</td>\n",
       "      <td>NaN</td>\n",
       "      <td>3</td>\n",
       "      <td>5</td>\n",
       "      <td>ManaGER</td>\n",
       "      <td>4</td>\n",
       "      <td>Married</td>\n",
       "      <td>NaN</td>\n",
       "      <td>41669,33$</td>\n",
       "      <td>1</td>\n",
       "      <td>NaN</td>\n",
       "      <td>No</td>\n",
       "      <td>11</td>\n",
       "      <td>3,0</td>\n",
       "      <td>4</td>\n",
       "      <td>NaN</td>\n",
       "      <td>0</td>\n",
       "      <td>22,0</td>\n",
       "      <td>3</td>\n",
       "      <td>NaN</td>\n",
       "      <td>22</td>\n",
       "      <td>NaN</td>\n",
       "      <td>11</td>\n",
       "      <td>15</td>\n",
       "      <td>NaN</td>\n",
       "      <td>1981</td>\n",
       "      <td>192320,00$</td>\n",
       "      <td>ManaGER  -  Research &amp; Development</td>\n",
       "      <td>NaN</td>\n",
       "      <td>1</td>\n",
       "    </tr>\n",
       "    <tr>\n",
       "      <th>3</th>\n",
       "      <td>47</td>\n",
       "      <td>No</td>\n",
       "      <td>travel_rarely</td>\n",
       "      <td>1771.404762</td>\n",
       "      <td>NaN</td>\n",
       "      <td>2</td>\n",
       "      <td>4</td>\n",
       "      <td>Medical</td>\n",
       "      <td>1</td>\n",
       "      <td>4</td>\n",
       "      <td>1</td>\n",
       "      <td>1</td>\n",
       "      <td>NaN</td>\n",
       "      <td>3</td>\n",
       "      <td>4</td>\n",
       "      <td>ReseArCH DIrECtOr</td>\n",
       "      <td>3</td>\n",
       "      <td>Married</td>\n",
       "      <td>14307,50$</td>\n",
       "      <td>37199,50$</td>\n",
       "      <td>3</td>\n",
       "      <td>Y</td>\n",
       "      <td>NaN</td>\n",
       "      <td>19</td>\n",
       "      <td>3,0</td>\n",
       "      <td>2</td>\n",
       "      <td>Full Time</td>\n",
       "      <td>2</td>\n",
       "      <td>NaN</td>\n",
       "      <td>2</td>\n",
       "      <td>NaN</td>\n",
       "      <td>20</td>\n",
       "      <td>NaN</td>\n",
       "      <td>5</td>\n",
       "      <td>6</td>\n",
       "      <td>14307,50$</td>\n",
       "      <td>1976</td>\n",
       "      <td>171690,00$</td>\n",
       "      <td>NaN</td>\n",
       "      <td>NaN</td>\n",
       "      <td>False</td>\n",
       "    </tr>\n",
       "    <tr>\n",
       "      <th>4</th>\n",
       "      <td>46</td>\n",
       "      <td>No</td>\n",
       "      <td>NaN</td>\n",
       "      <td>1582.771346</td>\n",
       "      <td>NaN</td>\n",
       "      <td>3</td>\n",
       "      <td>3</td>\n",
       "      <td>Technical Degree</td>\n",
       "      <td>1</td>\n",
       "      <td>5</td>\n",
       "      <td>1</td>\n",
       "      <td>1</td>\n",
       "      <td>NaN</td>\n",
       "      <td>4</td>\n",
       "      <td>4</td>\n",
       "      <td>sAleS EXECUtIve</td>\n",
       "      <td>1</td>\n",
       "      <td>Divorced</td>\n",
       "      <td>12783,92$</td>\n",
       "      <td>33238,20$</td>\n",
       "      <td>2</td>\n",
       "      <td>Y</td>\n",
       "      <td>No</td>\n",
       "      <td>12</td>\n",
       "      <td>3,0</td>\n",
       "      <td>4</td>\n",
       "      <td>NaN</td>\n",
       "      <td>1</td>\n",
       "      <td>NaN</td>\n",
       "      <td>5</td>\n",
       "      <td>3,0</td>\n",
       "      <td>19</td>\n",
       "      <td>NaN</td>\n",
       "      <td>2</td>\n",
       "      <td>8</td>\n",
       "      <td>12783,92$</td>\n",
       "      <td>1977</td>\n",
       "      <td>NaN</td>\n",
       "      <td>NaN</td>\n",
       "      <td>NaN</td>\n",
       "      <td>0</td>\n",
       "    </tr>\n",
       "  </tbody>\n",
       "</table>\n",
       "</div>"
      ],
      "text/plain": [
       "  age attrition businesstravel    dailyrate                department  \\\n",
       "0  51        No            NaN  2015.722222                       NaN   \n",
       "1  52        No            NaN  2063.388889                       NaN   \n",
       "2  42        No  travel_rarely  1984.253968   Research & Development    \n",
       "3  47        No  travel_rarely  1771.404762                       NaN   \n",
       "4  46        No            NaN  1582.771346                       NaN   \n",
       "\n",
       "   distancefromhome  education    educationfield  employeecount  \\\n",
       "0                 6          3               NaN              1   \n",
       "1                 1          4     Life Sciences              1   \n",
       "2                 4          2  Technical Degree              1   \n",
       "3                 2          4           Medical              1   \n",
       "4                 3          3  Technical Degree              1   \n",
       "\n",
       "   employeenumber  environmentsatisfaction  gender  hourlyrate  \\\n",
       "0               1                        1       0         NaN   \n",
       "1               2                        3       0         NaN   \n",
       "2               3                        3       0         NaN   \n",
       "3               4                        1       1         NaN   \n",
       "4               5                        1       1         NaN   \n",
       "\n",
       "   jobinvolvement  joblevel              jobrole  jobsatisfaction  \\\n",
       "0               3         5   resEArch DIREcToR                 3   \n",
       "1               2         5             ManAGeR                 3   \n",
       "2               3         5             ManaGER                 4   \n",
       "3               3         4   ReseArCH DIrECtOr                 3   \n",
       "4               4         4     sAleS EXECUtIve                 1   \n",
       "\n",
       "  maritalstatus monthlyincome monthlyrate  numcompaniesworked over18 overtime  \\\n",
       "0           NaN     16280,83$   42330,17$                   7      Y       No   \n",
       "1           NaN           NaN   43331,17$                   0    NaN      NaN   \n",
       "2       Married           NaN   41669,33$                   1    NaN       No   \n",
       "3       Married     14307,50$   37199,50$                   3      Y      NaN   \n",
       "4      Divorced     12783,92$   33238,20$                   2      Y       No   \n",
       "\n",
       "   percentsalaryhike performancerating  relationshipsatisfaction  \\\n",
       "0                 13               3,0                         3   \n",
       "1                 14               3,0                         1   \n",
       "2                 11               3,0                         4   \n",
       "3                 19               3,0                         2   \n",
       "4                 12               3,0                         4   \n",
       "\n",
       "  standardhours  stockoptionlevel totalworkingyears  trainingtimeslastyear  \\\n",
       "0     Full Time                 0               NaN                      5   \n",
       "1           NaN                 1              34,0                      5   \n",
       "2           NaN                 0              22,0                      3   \n",
       "3     Full Time                 2               NaN                      2   \n",
       "4           NaN                 1               NaN                      5   \n",
       "\n",
       "  worklifebalance  yearsatcompany yearsincurrentrole  yearssincelastpromotion  \\\n",
       "0             3,0              20                NaN                       15   \n",
       "1             3,0              33                NaN                       11   \n",
       "2             NaN              22                NaN                       11   \n",
       "3             NaN              20                NaN                        5   \n",
       "4             3,0              19                NaN                        2   \n",
       "\n",
       "   yearswithcurrmanager sameasmonthlyincome  datebirth      salary  \\\n",
       "0                    15           16280,83$       1972  195370,00$   \n",
       "1                     9                 NaN       1971  199990,00$   \n",
       "2                    15                 NaN       1981  192320,00$   \n",
       "3                     6           14307,50$       1976  171690,00$   \n",
       "4                     8           12783,92$       1977         NaN   \n",
       "\n",
       "                        roledepartament  numberchildren remotework  \n",
       "0                                   NaN             NaN        Yes  \n",
       "1                                   NaN             NaN          1  \n",
       "2   ManaGER  -  Research & Development              NaN          1  \n",
       "3                                   NaN             NaN      False  \n",
       "4                                   NaN             NaN          0  "
      ]
     },
     "execution_count": 2,
     "metadata": {},
     "output_type": "execute_result"
    }
   ],
   "source": [
    "df_limpio = pd.read_csv(\"hr_raw_data.csv\", index_col=0)\n",
    "df_limpio.head()"
   ]
  },
  {
   "cell_type": "markdown",
   "id": "08b132bd",
   "metadata": {},
   "source": [
    "### Columnas Gabi"
   ]
  },
  {
   "cell_type": "code",
   "execution_count": 3,
   "id": "e2012e01",
   "metadata": {},
   "outputs": [],
   "source": [
    "#Vamos a limpiar la columna age\n",
    "df_limpio['age'] = df_limpio['age'].str.strip().str.lower()"
   ]
  },
  {
   "cell_type": "code",
   "execution_count": 4,
   "id": "d8041953",
   "metadata": {},
   "outputs": [],
   "source": [
    "def convertir_a_numero(valor):\n",
    "    try:\n",
    "        return int(valor)\n",
    "    except ValueError: # tengo que aplicar defensiva para que los que no pueda cambiar porque estan ok no me de error\n",
    "        try:\n",
    "            return w2n.word_to_num(valor)\n",
    "        except:\n",
    "            return None"
   ]
  },
  {
   "cell_type": "code",
   "execution_count": 5,
   "id": "352a8c33",
   "metadata": {},
   "outputs": [],
   "source": [
    "df_limpio['age'] = df_limpio['age'].apply(convertir_a_numero)"
   ]
  },
  {
   "cell_type": "code",
   "execution_count": 6,
   "id": "b1064d0d",
   "metadata": {},
   "outputs": [
    {
     "data": {
      "text/plain": [
       "array([51., 52., 42., 47., 46., 48., 59., 41., 56., 38., 55., 40., 58.,\n",
       "       35., 45., 33., 36., 34., nan, 53., 43., 60., 32., 37., 49., 39.,\n",
       "       50., 44., 30., 29., 31., 54., 57., 27., 28., 26., 25., 24., 23.,\n",
       "       22., 21., 20., 19., 18.])"
      ]
     },
     "execution_count": 6,
     "metadata": {},
     "output_type": "execute_result"
    }
   ],
   "source": [
    "df_limpio[\"age\"].unique()"
   ]
  },
  {
   "cell_type": "code",
   "execution_count": 58,
   "id": "b77dfec3",
   "metadata": {},
   "outputs": [
    {
     "ename": "IntCastingNaNError",
     "evalue": "Cannot convert non-finite values (NA or inf) to integer",
     "output_type": "error",
     "traceback": [
      "\u001b[1;31m---------------------------------------------------------------------------\u001b[0m",
      "\u001b[1;31mIntCastingNaNError\u001b[0m                        Traceback (most recent call last)",
      "Cell \u001b[1;32mIn[58], line 1\u001b[0m\n\u001b[1;32m----> 1\u001b[0m df_limpio[\u001b[38;5;124m\"\u001b[39m\u001b[38;5;124mage\u001b[39m\u001b[38;5;124m\"\u001b[39m] \u001b[38;5;241m=\u001b[39m df_limpio[\u001b[38;5;124m\"\u001b[39m\u001b[38;5;124mage\u001b[39m\u001b[38;5;124m\"\u001b[39m]\u001b[38;5;241m.\u001b[39mastype(\u001b[38;5;28mint\u001b[39m)\n",
      "File \u001b[1;32mc:\\Users\\irene\\anaconda3\\Lib\\site-packages\\pandas\\core\\generic.py:6643\u001b[0m, in \u001b[0;36mNDFrame.astype\u001b[1;34m(self, dtype, copy, errors)\u001b[0m\n\u001b[0;32m   6637\u001b[0m     results \u001b[38;5;241m=\u001b[39m [\n\u001b[0;32m   6638\u001b[0m         ser\u001b[38;5;241m.\u001b[39mastype(dtype, copy\u001b[38;5;241m=\u001b[39mcopy, errors\u001b[38;5;241m=\u001b[39merrors) \u001b[38;5;28;01mfor\u001b[39;00m _, ser \u001b[38;5;129;01min\u001b[39;00m \u001b[38;5;28mself\u001b[39m\u001b[38;5;241m.\u001b[39mitems()\n\u001b[0;32m   6639\u001b[0m     ]\n\u001b[0;32m   6641\u001b[0m \u001b[38;5;28;01melse\u001b[39;00m:\n\u001b[0;32m   6642\u001b[0m     \u001b[38;5;66;03m# else, only a single dtype is given\u001b[39;00m\n\u001b[1;32m-> 6643\u001b[0m     new_data \u001b[38;5;241m=\u001b[39m \u001b[38;5;28mself\u001b[39m\u001b[38;5;241m.\u001b[39m_mgr\u001b[38;5;241m.\u001b[39mastype(dtype\u001b[38;5;241m=\u001b[39mdtype, copy\u001b[38;5;241m=\u001b[39mcopy, errors\u001b[38;5;241m=\u001b[39merrors)\n\u001b[0;32m   6644\u001b[0m     res \u001b[38;5;241m=\u001b[39m \u001b[38;5;28mself\u001b[39m\u001b[38;5;241m.\u001b[39m_constructor_from_mgr(new_data, axes\u001b[38;5;241m=\u001b[39mnew_data\u001b[38;5;241m.\u001b[39maxes)\n\u001b[0;32m   6645\u001b[0m     \u001b[38;5;28;01mreturn\u001b[39;00m res\u001b[38;5;241m.\u001b[39m__finalize__(\u001b[38;5;28mself\u001b[39m, method\u001b[38;5;241m=\u001b[39m\u001b[38;5;124m\"\u001b[39m\u001b[38;5;124mastype\u001b[39m\u001b[38;5;124m\"\u001b[39m)\n",
      "File \u001b[1;32mc:\\Users\\irene\\anaconda3\\Lib\\site-packages\\pandas\\core\\internals\\managers.py:430\u001b[0m, in \u001b[0;36mBaseBlockManager.astype\u001b[1;34m(self, dtype, copy, errors)\u001b[0m\n\u001b[0;32m    427\u001b[0m \u001b[38;5;28;01melif\u001b[39;00m using_copy_on_write():\n\u001b[0;32m    428\u001b[0m     copy \u001b[38;5;241m=\u001b[39m \u001b[38;5;28;01mFalse\u001b[39;00m\n\u001b[1;32m--> 430\u001b[0m \u001b[38;5;28;01mreturn\u001b[39;00m \u001b[38;5;28mself\u001b[39m\u001b[38;5;241m.\u001b[39mapply(\n\u001b[0;32m    431\u001b[0m     \u001b[38;5;124m\"\u001b[39m\u001b[38;5;124mastype\u001b[39m\u001b[38;5;124m\"\u001b[39m,\n\u001b[0;32m    432\u001b[0m     dtype\u001b[38;5;241m=\u001b[39mdtype,\n\u001b[0;32m    433\u001b[0m     copy\u001b[38;5;241m=\u001b[39mcopy,\n\u001b[0;32m    434\u001b[0m     errors\u001b[38;5;241m=\u001b[39merrors,\n\u001b[0;32m    435\u001b[0m     using_cow\u001b[38;5;241m=\u001b[39musing_copy_on_write(),\n\u001b[0;32m    436\u001b[0m )\n",
      "File \u001b[1;32mc:\\Users\\irene\\anaconda3\\Lib\\site-packages\\pandas\\core\\internals\\managers.py:363\u001b[0m, in \u001b[0;36mBaseBlockManager.apply\u001b[1;34m(self, f, align_keys, **kwargs)\u001b[0m\n\u001b[0;32m    361\u001b[0m         applied \u001b[38;5;241m=\u001b[39m b\u001b[38;5;241m.\u001b[39mapply(f, \u001b[38;5;241m*\u001b[39m\u001b[38;5;241m*\u001b[39mkwargs)\n\u001b[0;32m    362\u001b[0m     \u001b[38;5;28;01melse\u001b[39;00m:\n\u001b[1;32m--> 363\u001b[0m         applied \u001b[38;5;241m=\u001b[39m \u001b[38;5;28mgetattr\u001b[39m(b, f)(\u001b[38;5;241m*\u001b[39m\u001b[38;5;241m*\u001b[39mkwargs)\n\u001b[0;32m    364\u001b[0m     result_blocks \u001b[38;5;241m=\u001b[39m extend_blocks(applied, result_blocks)\n\u001b[0;32m    366\u001b[0m out \u001b[38;5;241m=\u001b[39m \u001b[38;5;28mtype\u001b[39m(\u001b[38;5;28mself\u001b[39m)\u001b[38;5;241m.\u001b[39mfrom_blocks(result_blocks, \u001b[38;5;28mself\u001b[39m\u001b[38;5;241m.\u001b[39maxes)\n",
      "File \u001b[1;32mc:\\Users\\irene\\anaconda3\\Lib\\site-packages\\pandas\\core\\internals\\blocks.py:758\u001b[0m, in \u001b[0;36mBlock.astype\u001b[1;34m(self, dtype, copy, errors, using_cow, squeeze)\u001b[0m\n\u001b[0;32m    755\u001b[0m         \u001b[38;5;28;01mraise\u001b[39;00m \u001b[38;5;167;01mValueError\u001b[39;00m(\u001b[38;5;124m\"\u001b[39m\u001b[38;5;124mCan not squeeze with more than one column.\u001b[39m\u001b[38;5;124m\"\u001b[39m)\n\u001b[0;32m    756\u001b[0m     values \u001b[38;5;241m=\u001b[39m values[\u001b[38;5;241m0\u001b[39m, :]  \u001b[38;5;66;03m# type: ignore[call-overload]\u001b[39;00m\n\u001b[1;32m--> 758\u001b[0m new_values \u001b[38;5;241m=\u001b[39m astype_array_safe(values, dtype, copy\u001b[38;5;241m=\u001b[39mcopy, errors\u001b[38;5;241m=\u001b[39merrors)\n\u001b[0;32m    760\u001b[0m new_values \u001b[38;5;241m=\u001b[39m maybe_coerce_values(new_values)\n\u001b[0;32m    762\u001b[0m refs \u001b[38;5;241m=\u001b[39m \u001b[38;5;28;01mNone\u001b[39;00m\n",
      "File \u001b[1;32mc:\\Users\\irene\\anaconda3\\Lib\\site-packages\\pandas\\core\\dtypes\\astype.py:237\u001b[0m, in \u001b[0;36mastype_array_safe\u001b[1;34m(values, dtype, copy, errors)\u001b[0m\n\u001b[0;32m    234\u001b[0m     dtype \u001b[38;5;241m=\u001b[39m dtype\u001b[38;5;241m.\u001b[39mnumpy_dtype\n\u001b[0;32m    236\u001b[0m \u001b[38;5;28;01mtry\u001b[39;00m:\n\u001b[1;32m--> 237\u001b[0m     new_values \u001b[38;5;241m=\u001b[39m astype_array(values, dtype, copy\u001b[38;5;241m=\u001b[39mcopy)\n\u001b[0;32m    238\u001b[0m \u001b[38;5;28;01mexcept\u001b[39;00m (\u001b[38;5;167;01mValueError\u001b[39;00m, \u001b[38;5;167;01mTypeError\u001b[39;00m):\n\u001b[0;32m    239\u001b[0m     \u001b[38;5;66;03m# e.g. _astype_nansafe can fail on object-dtype of strings\u001b[39;00m\n\u001b[0;32m    240\u001b[0m     \u001b[38;5;66;03m#  trying to convert to float\u001b[39;00m\n\u001b[0;32m    241\u001b[0m     \u001b[38;5;28;01mif\u001b[39;00m errors \u001b[38;5;241m==\u001b[39m \u001b[38;5;124m\"\u001b[39m\u001b[38;5;124mignore\u001b[39m\u001b[38;5;124m\"\u001b[39m:\n",
      "File \u001b[1;32mc:\\Users\\irene\\anaconda3\\Lib\\site-packages\\pandas\\core\\dtypes\\astype.py:182\u001b[0m, in \u001b[0;36mastype_array\u001b[1;34m(values, dtype, copy)\u001b[0m\n\u001b[0;32m    179\u001b[0m     values \u001b[38;5;241m=\u001b[39m values\u001b[38;5;241m.\u001b[39mastype(dtype, copy\u001b[38;5;241m=\u001b[39mcopy)\n\u001b[0;32m    181\u001b[0m \u001b[38;5;28;01melse\u001b[39;00m:\n\u001b[1;32m--> 182\u001b[0m     values \u001b[38;5;241m=\u001b[39m _astype_nansafe(values, dtype, copy\u001b[38;5;241m=\u001b[39mcopy)\n\u001b[0;32m    184\u001b[0m \u001b[38;5;66;03m# in pandas we don't store numpy str dtypes, so convert to object\u001b[39;00m\n\u001b[0;32m    185\u001b[0m \u001b[38;5;28;01mif\u001b[39;00m \u001b[38;5;28misinstance\u001b[39m(dtype, np\u001b[38;5;241m.\u001b[39mdtype) \u001b[38;5;129;01mand\u001b[39;00m \u001b[38;5;28missubclass\u001b[39m(values\u001b[38;5;241m.\u001b[39mdtype\u001b[38;5;241m.\u001b[39mtype, \u001b[38;5;28mstr\u001b[39m):\n",
      "File \u001b[1;32mc:\\Users\\irene\\anaconda3\\Lib\\site-packages\\pandas\\core\\dtypes\\astype.py:101\u001b[0m, in \u001b[0;36m_astype_nansafe\u001b[1;34m(arr, dtype, copy, skipna)\u001b[0m\n\u001b[0;32m     96\u001b[0m     \u001b[38;5;28;01mreturn\u001b[39;00m lib\u001b[38;5;241m.\u001b[39mensure_string_array(\n\u001b[0;32m     97\u001b[0m         arr, skipna\u001b[38;5;241m=\u001b[39mskipna, convert_na_value\u001b[38;5;241m=\u001b[39m\u001b[38;5;28;01mFalse\u001b[39;00m\n\u001b[0;32m     98\u001b[0m     )\u001b[38;5;241m.\u001b[39mreshape(shape)\n\u001b[0;32m    100\u001b[0m \u001b[38;5;28;01melif\u001b[39;00m np\u001b[38;5;241m.\u001b[39missubdtype(arr\u001b[38;5;241m.\u001b[39mdtype, np\u001b[38;5;241m.\u001b[39mfloating) \u001b[38;5;129;01mand\u001b[39;00m dtype\u001b[38;5;241m.\u001b[39mkind \u001b[38;5;129;01min\u001b[39;00m \u001b[38;5;124m\"\u001b[39m\u001b[38;5;124miu\u001b[39m\u001b[38;5;124m\"\u001b[39m:\n\u001b[1;32m--> 101\u001b[0m     \u001b[38;5;28;01mreturn\u001b[39;00m _astype_float_to_int_nansafe(arr, dtype, copy)\n\u001b[0;32m    103\u001b[0m \u001b[38;5;28;01melif\u001b[39;00m arr\u001b[38;5;241m.\u001b[39mdtype \u001b[38;5;241m==\u001b[39m \u001b[38;5;28mobject\u001b[39m:\n\u001b[0;32m    104\u001b[0m     \u001b[38;5;66;03m# if we have a datetime/timedelta array of objects\u001b[39;00m\n\u001b[0;32m    105\u001b[0m     \u001b[38;5;66;03m# then coerce to datetime64[ns] and use DatetimeArray.astype\u001b[39;00m\n\u001b[0;32m    107\u001b[0m     \u001b[38;5;28;01mif\u001b[39;00m lib\u001b[38;5;241m.\u001b[39mis_np_dtype(dtype, \u001b[38;5;124m\"\u001b[39m\u001b[38;5;124mM\u001b[39m\u001b[38;5;124m\"\u001b[39m):\n",
      "File \u001b[1;32mc:\\Users\\irene\\anaconda3\\Lib\\site-packages\\pandas\\core\\dtypes\\astype.py:145\u001b[0m, in \u001b[0;36m_astype_float_to_int_nansafe\u001b[1;34m(values, dtype, copy)\u001b[0m\n\u001b[0;32m    141\u001b[0m \u001b[38;5;250m\u001b[39m\u001b[38;5;124;03m\"\"\"\u001b[39;00m\n\u001b[0;32m    142\u001b[0m \u001b[38;5;124;03mastype with a check preventing converting NaN to an meaningless integer value.\u001b[39;00m\n\u001b[0;32m    143\u001b[0m \u001b[38;5;124;03m\"\"\"\u001b[39;00m\n\u001b[0;32m    144\u001b[0m \u001b[38;5;28;01mif\u001b[39;00m \u001b[38;5;129;01mnot\u001b[39;00m np\u001b[38;5;241m.\u001b[39misfinite(values)\u001b[38;5;241m.\u001b[39mall():\n\u001b[1;32m--> 145\u001b[0m     \u001b[38;5;28;01mraise\u001b[39;00m IntCastingNaNError(\n\u001b[0;32m    146\u001b[0m         \u001b[38;5;124m\"\u001b[39m\u001b[38;5;124mCannot convert non-finite values (NA or inf) to integer\u001b[39m\u001b[38;5;124m\"\u001b[39m\n\u001b[0;32m    147\u001b[0m     )\n\u001b[0;32m    148\u001b[0m \u001b[38;5;28;01mif\u001b[39;00m dtype\u001b[38;5;241m.\u001b[39mkind \u001b[38;5;241m==\u001b[39m \u001b[38;5;124m\"\u001b[39m\u001b[38;5;124mu\u001b[39m\u001b[38;5;124m\"\u001b[39m:\n\u001b[0;32m    149\u001b[0m     \u001b[38;5;66;03m# GH#45151\u001b[39;00m\n\u001b[0;32m    150\u001b[0m     \u001b[38;5;28;01mif\u001b[39;00m \u001b[38;5;129;01mnot\u001b[39;00m (values \u001b[38;5;241m>\u001b[39m\u001b[38;5;241m=\u001b[39m \u001b[38;5;241m0\u001b[39m)\u001b[38;5;241m.\u001b[39mall():\n",
      "\u001b[1;31mIntCastingNaNError\u001b[0m: Cannot convert non-finite values (NA or inf) to integer"
     ]
    }
   ],
   "source": [
    "df_limpio[\"age\"] = df_limpio[\"age\"].astype(int)"
   ]
  },
  {
   "cell_type": "code",
   "execution_count": 7,
   "id": "d3fc479d",
   "metadata": {},
   "outputs": [
    {
     "data": {
      "text/plain": [
       "array([  6,   1,   4,   2,   3,  22,  25,   9,   7,  23,  10,  12,  14,\n",
       "       -13,  15,   8, -42,  28, -37,   5,  16, -35,  26, -26,  24,  29,\n",
       "       -25,  17,  21, -18, -10, -30, -27,  20, -31, -29, -39,  18, -21,\n",
       "       -15,  11,  13, -14,  19, -33, -34, -46, -36, -19,  27, -12, -23,\n",
       "       -45, -28, -47, -32, -24, -16, -22, -41, -49, -11, -48, -38, -20,\n",
       "       -17, -43, -40, -44], dtype=int64)"
      ]
     },
     "execution_count": 7,
     "metadata": {},
     "output_type": "execute_result"
    }
   ],
   "source": [
    "df_limpio[\"distancefromhome\"].unique()"
   ]
  },
  {
   "cell_type": "code",
   "execution_count": 8,
   "id": "63a3d5a6",
   "metadata": {},
   "outputs": [],
   "source": [
    "df_limpio[\"distancefromhome\"] = df_limpio[\"distancefromhome\"].abs()"
   ]
  },
  {
   "cell_type": "code",
   "execution_count": 9,
   "id": "9f56d6e8",
   "metadata": {},
   "outputs": [
    {
     "data": {
      "text/plain": [
       "array([ 6,  1,  4,  2,  3, 22, 25,  9,  7, 23, 10, 12, 14, 13, 15,  8, 42,\n",
       "       28, 37,  5, 16, 35, 26, 24, 29, 17, 21, 18, 30, 27, 20, 31, 39, 11,\n",
       "       19, 33, 34, 46, 36, 45, 47, 32, 41, 49, 48, 38, 43, 40, 44],\n",
       "      dtype=int64)"
      ]
     },
     "execution_count": 9,
     "metadata": {},
     "output_type": "execute_result"
    }
   ],
   "source": [
    "df_limpio[\"distancefromhome\"].unique()"
   ]
  },
  {
   "cell_type": "code",
   "execution_count": 10,
   "id": "303a4a7a",
   "metadata": {},
   "outputs": [
    {
     "data": {
      "text/plain": [
       "Index(['age', 'attrition', 'businesstravel', 'dailyrate', 'department',\n",
       "       'distancefromhome', 'education', 'educationfield', 'employeecount',\n",
       "       'employeenumber', 'environmentsatisfaction', 'gender', 'hourlyrate',\n",
       "       'jobinvolvement', 'joblevel', 'jobrole', 'jobsatisfaction',\n",
       "       'maritalstatus', 'monthlyincome', 'monthlyrate', 'numcompaniesworked',\n",
       "       'over18', 'overtime', 'percentsalaryhike', 'performancerating',\n",
       "       'relationshipsatisfaction', 'standardhours', 'stockoptionlevel',\n",
       "       'totalworkingyears', 'trainingtimeslastyear', 'worklifebalance',\n",
       "       'yearsatcompany', 'yearsincurrentrole', 'yearssincelastpromotion',\n",
       "       'yearswithcurrmanager', 'sameasmonthlyincome', 'datebirth', 'salary',\n",
       "       'roledepartament', 'numberchildren', 'remotework'],\n",
       "      dtype='object')"
      ]
     },
     "execution_count": 10,
     "metadata": {},
     "output_type": "execute_result"
    }
   ],
   "source": [
    "df_limpio.columns"
   ]
  },
  {
   "cell_type": "code",
   "execution_count": 11,
   "id": "90c360bb",
   "metadata": {},
   "outputs": [],
   "source": [
    "# Quitamos employeecount porque el valor es 1 y no aporta información\n",
    "df_limpio = df_limpio.drop(columns=[\"employeecount\"])"
   ]
  },
  {
   "cell_type": "code",
   "execution_count": 12,
   "id": "bbde3089",
   "metadata": {},
   "outputs": [
    {
     "data": {
      "text/plain": [
       "Index(['age', 'attrition', 'businesstravel', 'dailyrate', 'department',\n",
       "       'distancefromhome', 'education', 'educationfield', 'employeenumber',\n",
       "       'environmentsatisfaction', 'gender', 'hourlyrate', 'jobinvolvement',\n",
       "       'joblevel', 'jobrole', 'jobsatisfaction', 'maritalstatus',\n",
       "       'monthlyincome', 'monthlyrate', 'numcompaniesworked', 'over18',\n",
       "       'overtime', 'percentsalaryhike', 'performancerating',\n",
       "       'relationshipsatisfaction', 'standardhours', 'stockoptionlevel',\n",
       "       'totalworkingyears', 'trainingtimeslastyear', 'worklifebalance',\n",
       "       'yearsatcompany', 'yearsincurrentrole', 'yearssincelastpromotion',\n",
       "       'yearswithcurrmanager', 'sameasmonthlyincome', 'datebirth', 'salary',\n",
       "       'roledepartament', 'numberchildren', 'remotework'],\n",
       "      dtype='object')"
      ]
     },
     "execution_count": 12,
     "metadata": {},
     "output_type": "execute_result"
    }
   ],
   "source": [
    "df_limpio.columns #comprobamos que ya no está"
   ]
  },
  {
   "cell_type": "markdown",
   "id": "73b4345b",
   "metadata": {},
   "source": [
    "### Columnas Irene"
   ]
  },
  {
   "cell_type": "code",
   "execution_count": 13,
   "id": "76237abb",
   "metadata": {},
   "outputs": [
    {
     "data": {
      "text/plain": [
       "'¿borramos hourlyrate?'"
      ]
     },
     "execution_count": 13,
     "metadata": {},
     "output_type": "execute_result"
    }
   ],
   "source": [
    "'''¿borramos hourlyrate?'''"
   ]
  },
  {
   "cell_type": "markdown",
   "id": "2ebc0a31",
   "metadata": {},
   "source": [
    "\n",
    "\n",
    "\n"
   ]
  },
  {
   "cell_type": "code",
   "execution_count": 14,
   "id": "09f1839b",
   "metadata": {},
   "outputs": [],
   "source": [
    "def minusculas(celda): #quitemos las mayúculas a jobrole\n",
    "  try:\n",
    "    return celda.lower()\n",
    "  except:\n",
    "    return celda"
   ]
  },
  {
   "cell_type": "code",
   "execution_count": 15,
   "id": "6bff8c87",
   "metadata": {},
   "outputs": [],
   "source": [
    "df_limpio['jobrole'] = df_limpio['jobrole'].apply(minusculas)"
   ]
  },
  {
   "cell_type": "code",
   "execution_count": 16,
   "id": "2d6fd8ab",
   "metadata": {},
   "outputs": [],
   "source": [
    "df_limpio['jobrole'] = df_limpio['jobrole'].str.strip()"
   ]
  },
  {
   "cell_type": "code",
   "execution_count": 17,
   "id": "c6e1a358",
   "metadata": {},
   "outputs": [
    {
     "data": {
      "text/plain": [
       "array(['research director', 'manager', 'sales executive',\n",
       "       'manufacturing director', 'research scientist',\n",
       "       'healthcare representative', 'laboratory technician',\n",
       "       'sales representative', 'human resources'], dtype=object)"
      ]
     },
     "execution_count": 17,
     "metadata": {},
     "output_type": "execute_result"
    }
   ],
   "source": [
    "df_limpio['jobrole'].unique()"
   ]
  },
  {
   "cell_type": "code",
   "execution_count": 18,
   "id": "5cf6b8a4",
   "metadata": {},
   "outputs": [],
   "source": [
    "df_limpio['maritalstatus'] = df_limpio['maritalstatus'].apply(minusculas)"
   ]
  },
  {
   "cell_type": "code",
   "execution_count": 19,
   "id": "de8c1b89",
   "metadata": {},
   "outputs": [],
   "source": [
    "df_limpio['maritalstatus'] = df_limpio['maritalstatus'].replace('marreid', 'married')"
   ]
  },
  {
   "cell_type": "code",
   "execution_count": 20,
   "id": "beb80b17",
   "metadata": {},
   "outputs": [
    {
     "data": {
      "text/plain": [
       "array([nan, 'married', 'divorced', 'single'], dtype=object)"
      ]
     },
     "execution_count": 20,
     "metadata": {},
     "output_type": "execute_result"
    }
   ],
   "source": [
    "df_limpio['maritalstatus'].unique() #aplicamos minúsculas"
   ]
  },
  {
   "cell_type": "code",
   "execution_count": 21,
   "id": "15f95e23",
   "metadata": {},
   "outputs": [
    {
     "name": "stderr",
     "output_type": "stream",
     "text": [
      "C:\\Users\\irene\\AppData\\Local\\Temp\\ipykernel_27280\\2639878342.py:1: FutureWarning: A value is trying to be set on a copy of a DataFrame or Series through chained assignment using an inplace method.\n",
      "The behavior will change in pandas 3.0. This inplace method will never work because the intermediate object on which we are setting values always behaves as a copy.\n",
      "\n",
      "For example, when doing 'df[col].method(value, inplace=True)', try using 'df.method({col: value}, inplace=True)' or df[col] = df[col].method(value) instead, to perform the operation inplace on the original object.\n",
      "\n",
      "\n",
      "  df_limpio['gender'].replace({0: 'Male', 1: 'Female'}, inplace=True)\n"
     ]
    }
   ],
   "source": [
    "df_limpio['gender'].replace({0: 'Male', 1: 'Female'}, inplace=True)"
   ]
  },
  {
   "cell_type": "code",
   "execution_count": 22,
   "id": "62ac749a",
   "metadata": {},
   "outputs": [
    {
     "data": {
      "text/plain": [
       "array(['Male', 'Female'], dtype=object)"
      ]
     },
     "execution_count": 22,
     "metadata": {},
     "output_type": "execute_result"
    }
   ],
   "source": [
    "df_limpio['gender'].unique()"
   ]
  },
  {
   "cell_type": "code",
   "execution_count": 23,
   "id": "099cce24",
   "metadata": {},
   "outputs": [],
   "source": [
    "df_limpio['environmentsatisfaction'] = np.where(\n",
    "  df_limpio['environmentsatisfaction'].between(10, 49), # Valores de 2 dígitos\n",
    "  df_limpio['environmentsatisfaction'] // 10,      # División entera (primer dígito)\n",
    "  df_limpio['environmentsatisfaction']         # Valores 1-4 se mantienen\n",
    ")"
   ]
  },
  {
   "cell_type": "code",
   "execution_count": 24,
   "id": "7d876985",
   "metadata": {},
   "outputs": [
    {
     "data": {
      "text/plain": [
       "array([1, 3, 4, 2], dtype=int64)"
      ]
     },
     "execution_count": 24,
     "metadata": {},
     "output_type": "execute_result"
    }
   ],
   "source": [
    "df_limpio['environmentsatisfaction'].unique()"
   ]
  },
  {
   "cell_type": "code",
   "execution_count": 25,
   "id": "4814151c",
   "metadata": {},
   "outputs": [
    {
     "data": {
      "text/plain": [
       "environmentsatisfaction\n",
       "4    509\n",
       "3    490\n",
       "1    341\n",
       "2    338\n",
       "Name: count, dtype: int64"
      ]
     },
     "execution_count": 25,
     "metadata": {},
     "output_type": "execute_result"
    }
   ],
   "source": [
    "df_limpio['environmentsatisfaction'].value_counts()"
   ]
  },
  {
   "cell_type": "code",
   "execution_count": 26,
   "id": "a7b4e82b",
   "metadata": {},
   "outputs": [],
   "source": [
    "df_limpio['monthlyincome'] = df_limpio['monthlyincome'].str.replace('$', '', regex=False).str.replace(',', '.', regex=False).astype(float)"
   ]
  },
  {
   "cell_type": "code",
   "execution_count": 27,
   "id": "b01399f8",
   "metadata": {},
   "outputs": [],
   "source": [
    "\n",
    "df_limpio.rename(columns= {'monthlyincome': 'monthlyincome_$'}, inplace=True)"
   ]
  },
  {
   "cell_type": "code",
   "execution_count": 28,
   "id": "6bb39881",
   "metadata": {},
   "outputs": [],
   "source": [
    "df_limpio['monthlyrate'] = df_limpio['monthlyrate'].str.replace('$', '', regex=False).str.replace(',', '.', regex=False).astype(float)"
   ]
  },
  {
   "cell_type": "code",
   "execution_count": 29,
   "id": "4cdd7fae",
   "metadata": {},
   "outputs": [],
   "source": [
    "df_limpio.rename(columns= {'monthlyrate':'monthlyrate_$'}, inplace=True)"
   ]
  },
  {
   "cell_type": "code",
   "execution_count": 30,
   "id": "28dbee4b",
   "metadata": {},
   "outputs": [],
   "source": [
    "df_limpio.drop(columns=[\"hourlyrate\"], inplace=True)"
   ]
  },
  {
   "cell_type": "code",
   "execution_count": 31,
   "id": "dc555aab",
   "metadata": {},
   "outputs": [
    {
     "name": "stdout",
     "output_type": "stream",
     "text": [
      "<class 'pandas.core.frame.DataFrame'>\n",
      "Index: 1678 entries, 0 to 1677\n",
      "Data columns (total 39 columns):\n",
      " #   Column                    Non-Null Count  Dtype  \n",
      "---  ------                    --------------  -----  \n",
      " 0   age                       1665 non-null   float64\n",
      " 1   attrition                 1678 non-null   object \n",
      " 2   businesstravel            877 non-null    object \n",
      " 3   dailyrate                 1678 non-null   float64\n",
      " 4   department                312 non-null    object \n",
      " 5   distancefromhome          1678 non-null   int64  \n",
      " 6   education                 1678 non-null   int64  \n",
      " 7   educationfield            904 non-null    object \n",
      " 8   employeenumber            1678 non-null   int64  \n",
      " 9   environmentsatisfaction   1678 non-null   int64  \n",
      " 10  gender                    1678 non-null   object \n",
      " 11  jobinvolvement            1678 non-null   int64  \n",
      " 12  joblevel                  1678 non-null   int64  \n",
      " 13  jobrole                   1678 non-null   object \n",
      " 14  jobsatisfaction           1678 non-null   int64  \n",
      " 15  maritalstatus             1003 non-null   object \n",
      " 16  monthlyincome_$           1189 non-null   float64\n",
      " 17  monthlyrate_$             1678 non-null   float64\n",
      " 18  numcompaniesworked        1678 non-null   int64  \n",
      " 19  over18                    740 non-null    object \n",
      " 20  overtime                  982 non-null    object \n",
      " 21  percentsalaryhike         1678 non-null   int64  \n",
      " 22  performancerating         1478 non-null   object \n",
      " 23  relationshipsatisfaction  1678 non-null   int64  \n",
      " 24  standardhours             1327 non-null   object \n",
      " 25  stockoptionlevel          1678 non-null   int64  \n",
      " 26  totalworkingyears         1129 non-null   object \n",
      " 27  trainingtimeslastyear     1678 non-null   int64  \n",
      " 28  worklifebalance           1564 non-null   object \n",
      " 29  yearsatcompany            1678 non-null   int64  \n",
      " 30  yearsincurrentrole        35 non-null     object \n",
      " 31  yearssincelastpromotion   1678 non-null   int64  \n",
      " 32  yearswithcurrmanager      1678 non-null   int64  \n",
      " 33  sameasmonthlyincome       1189 non-null   object \n",
      " 34  datebirth                 1678 non-null   int64  \n",
      " 35  salary                    1393 non-null   object \n",
      " 36  roledepartament           312 non-null    object \n",
      " 37  numberchildren            0 non-null      float64\n",
      " 38  remotework                1678 non-null   object \n",
      "dtypes: float64(5), int64(16), object(18)\n",
      "memory usage: 524.4+ KB\n"
     ]
    }
   ],
   "source": [
    "df_limpio.info()"
   ]
  },
  {
   "cell_type": "markdown",
   "id": "b00ce1c1",
   "metadata": {},
   "source": [
    "Columnas Ana"
   ]
  },
  {
   "cell_type": "code",
   "execution_count": 32,
   "id": "a8cb0436",
   "metadata": {},
   "outputs": [],
   "source": [
    "# borrar la columna 'over 18' ('redundante')\n",
    "df_limpio.drop(columns=[\"over18\"], inplace=True)"
   ]
  },
  {
   "cell_type": "code",
   "execution_count": 33,
   "id": "b0398057",
   "metadata": {},
   "outputs": [],
   "source": [
    "# borrar la columna 'totalworkingyears' (ya existe 'yearsatacompany')\n",
    "df_limpio.drop(columns=[\"totalworkingyears\"], inplace=True)"
   ]
  },
  {
   "cell_type": "code",
   "execution_count": 34,
   "id": "642a476d",
   "metadata": {},
   "outputs": [],
   "source": [
    "# 'worklifebalance' cambiar de objeto a numeric  \n",
    "df_limpio[\"worklifebalance\"] = pd.to_numeric(df_limpio[\"worklifebalance\"], errors=\"coerce\")"
   ]
  },
  {
   "cell_type": "code",
   "execution_count": 35,
   "id": "a03d5b3a",
   "metadata": {},
   "outputs": [],
   "source": [
    "# 'performancerating' cambiar de objeto a numeric  \n",
    "df_limpio[\"performancerating\"] = pd.to_numeric(df_limpio[\"performancerating\"], errors=\"coerce\")"
   ]
  },
  {
   "cell_type": "code",
   "execution_count": 36,
   "id": "1cb630fe",
   "metadata": {},
   "outputs": [],
   "source": [
    "# gestion nulos de 'standardhours' \n",
    "df_limpio['standardhours'] = df_limpio['standardhours'].fillna(\"Unknown\")"
   ]
  },
  {
   "cell_type": "code",
   "execution_count": 37,
   "id": "c327c838",
   "metadata": {},
   "outputs": [],
   "source": [
    "# gestion nulos de 'overtime'\n",
    "df_limpio['overtime'] = df_limpio['overtime'].fillna(\"Unknown\")"
   ]
  },
  {
   "cell_type": "code",
   "execution_count": 38,
   "id": "07ab5ca4",
   "metadata": {},
   "outputs": [
    {
     "name": "stdout",
     "output_type": "stream",
     "text": [
      "<class 'pandas.core.frame.DataFrame'>\n",
      "Index: 1678 entries, 0 to 1677\n",
      "Data columns (total 37 columns):\n",
      " #   Column                    Non-Null Count  Dtype  \n",
      "---  ------                    --------------  -----  \n",
      " 0   age                       1665 non-null   float64\n",
      " 1   attrition                 1678 non-null   object \n",
      " 2   businesstravel            877 non-null    object \n",
      " 3   dailyrate                 1678 non-null   float64\n",
      " 4   department                312 non-null    object \n",
      " 5   distancefromhome          1678 non-null   int64  \n",
      " 6   education                 1678 non-null   int64  \n",
      " 7   educationfield            904 non-null    object \n",
      " 8   employeenumber            1678 non-null   int64  \n",
      " 9   environmentsatisfaction   1678 non-null   int64  \n",
      " 10  gender                    1678 non-null   object \n",
      " 11  jobinvolvement            1678 non-null   int64  \n",
      " 12  joblevel                  1678 non-null   int64  \n",
      " 13  jobrole                   1678 non-null   object \n",
      " 14  jobsatisfaction           1678 non-null   int64  \n",
      " 15  maritalstatus             1003 non-null   object \n",
      " 16  monthlyincome_$           1189 non-null   float64\n",
      " 17  monthlyrate_$             1678 non-null   float64\n",
      " 18  numcompaniesworked        1678 non-null   int64  \n",
      " 19  overtime                  1678 non-null   object \n",
      " 20  percentsalaryhike         1678 non-null   int64  \n",
      " 21  performancerating         0 non-null      float64\n",
      " 22  relationshipsatisfaction  1678 non-null   int64  \n",
      " 23  standardhours             1678 non-null   object \n",
      " 24  stockoptionlevel          1678 non-null   int64  \n",
      " 25  trainingtimeslastyear     1678 non-null   int64  \n",
      " 26  worklifebalance           0 non-null      float64\n",
      " 27  yearsatcompany            1678 non-null   int64  \n",
      " 28  yearsincurrentrole        35 non-null     object \n",
      " 29  yearssincelastpromotion   1678 non-null   int64  \n",
      " 30  yearswithcurrmanager      1678 non-null   int64  \n",
      " 31  sameasmonthlyincome       1189 non-null   object \n",
      " 32  datebirth                 1678 non-null   int64  \n",
      " 33  salary                    1393 non-null   object \n",
      " 34  roledepartament           312 non-null    object \n",
      " 35  numberchildren            0 non-null      float64\n",
      " 36  remotework                1678 non-null   object \n",
      "dtypes: float64(7), int64(16), object(14)\n",
      "memory usage: 498.2+ KB\n"
     ]
    }
   ],
   "source": [
    "df_limpio.info()"
   ]
  },
  {
   "cell_type": "markdown",
   "id": "034aa051",
   "metadata": {},
   "source": [
    "Columnas Carmen"
   ]
  },
  {
   "cell_type": "code",
   "execution_count": 39,
   "id": "d99116e7",
   "metadata": {},
   "outputs": [
    {
     "name": "stdout",
     "output_type": "stream",
     "text": [
      "'numberchildren' ha sido eliminada.\n"
     ]
    }
   ],
   "source": [
    "if 'numberchildren' in df_limpio.columns:\n",
    "    df_limpio.drop('numberchildren', axis=1, inplace=True)\n",
    "    print(\"'numberchildren' ha sido eliminada.\")\n",
    "else:\n",
    "    print(\"'numberchildren' no se encontró en el DataFrame.\")"
   ]
  },
  {
   "cell_type": "code",
   "execution_count": 40,
   "id": "03e31cc0",
   "metadata": {},
   "outputs": [
    {
     "data": {
      "text/plain": [
       "Index(['age', 'attrition', 'businesstravel', 'dailyrate', 'department',\n",
       "       'distancefromhome', 'education', 'educationfield', 'employeenumber',\n",
       "       'environmentsatisfaction', 'gender', 'jobinvolvement', 'joblevel',\n",
       "       'jobrole', 'jobsatisfaction', 'maritalstatus', 'monthlyincome_$',\n",
       "       'monthlyrate_$', 'numcompaniesworked', 'overtime', 'percentsalaryhike',\n",
       "       'performancerating', 'relationshipsatisfaction', 'standardhours',\n",
       "       'stockoptionlevel', 'trainingtimeslastyear', 'worklifebalance',\n",
       "       'yearsatcompany', 'yearsincurrentrole', 'yearssincelastpromotion',\n",
       "       'yearswithcurrmanager', 'sameasmonthlyincome', 'datebirth', 'salary',\n",
       "       'roledepartament', 'remotework'],\n",
       "      dtype='object')"
      ]
     },
     "execution_count": 40,
     "metadata": {},
     "output_type": "execute_result"
    }
   ],
   "source": [
    "df_limpio.columns"
   ]
  },
  {
   "cell_type": "code",
   "execution_count": 41,
   "id": "f0b83768",
   "metadata": {},
   "outputs": [
    {
     "name": "stdout",
     "output_type": "stream",
     "text": [
      "\n",
      "Limpiando 'yearsincurrentrole'...\n",
      "'yearsincurrentrole' convertida a tipo numérico (float).\n"
     ]
    }
   ],
   "source": [
    "print(\"\\nLimpiando 'yearsincurrentrole'...\")\n",
    "df_limpio['yearsincurrentrole'] = df_limpio['yearsincurrentrole'].str.replace(',', '.', regex=False).astype(float)\n",
    "print(\"'yearsincurrentrole' convertida a tipo numérico (float).\")"
   ]
  },
  {
   "cell_type": "code",
   "execution_count": 42,
   "id": "799d2c82",
   "metadata": {},
   "outputs": [],
   "source": [
    "df_limpio['salary'] = df_limpio['salary'].str.replace('$', '', regex=False).str.replace(',', '.', regex=False).astype(float)"
   ]
  },
  {
   "cell_type": "code",
   "execution_count": null,
   "id": "299e9e09",
   "metadata": {},
   "outputs": [],
   "source": [
    "salario = df_limpio['sameasmonthlyincome'] == df_limpio['monthlyincome_$']"
   ]
  },
  {
   "cell_type": "code",
   "execution_count": 46,
   "id": "6b7cb3b3",
   "metadata": {},
   "outputs": [
    {
     "data": {
      "text/plain": [
       "0    False\n",
       "1    False\n",
       "2    False\n",
       "3    False\n",
       "4    False\n",
       "dtype: bool"
      ]
     },
     "execution_count": 46,
     "metadata": {},
     "output_type": "execute_result"
    }
   ],
   "source": [
    "salario.head()"
   ]
  },
  {
   "cell_type": "code",
   "execution_count": null,
   "id": "f2434f3e",
   "metadata": {},
   "outputs": [
    {
     "data": {
      "text/html": [
       "<div>\n",
       "<style scoped>\n",
       "    .dataframe tbody tr th:only-of-type {\n",
       "        vertical-align: middle;\n",
       "    }\n",
       "\n",
       "    .dataframe tbody tr th {\n",
       "        vertical-align: top;\n",
       "    }\n",
       "\n",
       "    .dataframe thead th {\n",
       "        text-align: right;\n",
       "    }\n",
       "</style>\n",
       "<table border=\"1\" class=\"dataframe\">\n",
       "  <thead>\n",
       "    <tr style=\"text-align: right;\">\n",
       "      <th></th>\n",
       "      <th>monthlyincome_$</th>\n",
       "      <th>sameasmonthlyincome</th>\n",
       "      <th>salary</th>\n",
       "    </tr>\n",
       "  </thead>\n",
       "  <tbody>\n",
       "    <tr>\n",
       "      <th>0</th>\n",
       "      <td>16280.83</td>\n",
       "      <td>16280,83$</td>\n",
       "      <td>195370.00</td>\n",
       "    </tr>\n",
       "    <tr>\n",
       "      <th>1</th>\n",
       "      <td>NaN</td>\n",
       "      <td>NaN</td>\n",
       "      <td>199990.00</td>\n",
       "    </tr>\n",
       "    <tr>\n",
       "      <th>2</th>\n",
       "      <td>NaN</td>\n",
       "      <td>NaN</td>\n",
       "      <td>192320.00</td>\n",
       "    </tr>\n",
       "    <tr>\n",
       "      <th>3</th>\n",
       "      <td>14307.50</td>\n",
       "      <td>14307,50$</td>\n",
       "      <td>171690.00</td>\n",
       "    </tr>\n",
       "    <tr>\n",
       "      <th>4</th>\n",
       "      <td>12783.92</td>\n",
       "      <td>12783,92$</td>\n",
       "      <td>NaN</td>\n",
       "    </tr>\n",
       "    <tr>\n",
       "      <th>...</th>\n",
       "      <td>...</td>\n",
       "      <td>...</td>\n",
       "      <td>...</td>\n",
       "    </tr>\n",
       "    <tr>\n",
       "      <th>1673</th>\n",
       "      <td>3949.17</td>\n",
       "      <td>3949,17$</td>\n",
       "      <td>NaN</td>\n",
       "    </tr>\n",
       "    <tr>\n",
       "      <th>1674</th>\n",
       "      <td>15943.72</td>\n",
       "      <td>15943,72$</td>\n",
       "      <td>191324.62</td>\n",
       "    </tr>\n",
       "    <tr>\n",
       "      <th>1675</th>\n",
       "      <td>NaN</td>\n",
       "      <td>NaN</td>\n",
       "      <td>28111.13</td>\n",
       "    </tr>\n",
       "    <tr>\n",
       "      <th>1676</th>\n",
       "      <td>8339.32</td>\n",
       "      <td>8339,32$</td>\n",
       "      <td>100071.84</td>\n",
       "    </tr>\n",
       "    <tr>\n",
       "      <th>1677</th>\n",
       "      <td>NaN</td>\n",
       "      <td>NaN</td>\n",
       "      <td>53914.11</td>\n",
       "    </tr>\n",
       "  </tbody>\n",
       "</table>\n",
       "<p>1678 rows × 3 columns</p>\n",
       "</div>"
      ],
      "text/plain": [
       "      monthlyincome_$ sameasmonthlyincome     salary\n",
       "0            16280.83           16280,83$  195370.00\n",
       "1                 NaN                 NaN  199990.00\n",
       "2                 NaN                 NaN  192320.00\n",
       "3            14307.50           14307,50$  171690.00\n",
       "4            12783.92           12783,92$        NaN\n",
       "...               ...                 ...        ...\n",
       "1673          3949.17            3949,17$        NaN\n",
       "1674         15943.72           15943,72$  191324.62\n",
       "1675              NaN                 NaN   28111.13\n",
       "1676          8339.32            8339,32$  100071.84\n",
       "1677              NaN                 NaN   53914.11\n",
       "\n",
       "[1678 rows x 3 columns]"
      ]
     },
     "execution_count": 50,
     "metadata": {},
     "output_type": "execute_result"
    }
   ],
   "source": [
    "df_income = df_limpio[['monthlyincome_$', \"sameasmonthlyincome\", 'salary']]\n",
    "df_income\n",
    "#estudiar cómo sacar info de salary para monthlyincome"
   ]
  },
  {
   "cell_type": "code",
   "execution_count": 51,
   "id": "e326d9dc",
   "metadata": {},
   "outputs": [],
   "source": [
    "df_limpio['roledepartament'] = df_limpio['roledepartament'].str.strip().str.lower()"
   ]
  },
  {
   "cell_type": "code",
   "execution_count": 54,
   "id": "c84bbd98",
   "metadata": {},
   "outputs": [
    {
     "data": {
      "text/plain": [
       "array([nan, 'manager  -  research & development',\n",
       "       'healthcare representative  -  research & development',\n",
       "       'sales executive  -  sales',\n",
       "       'laboratory technician  -  research & development',\n",
       "       'manufacturing director  -  research & development',\n",
       "       'research scientist  -  research & development',\n",
       "       'research director  -  research & development',\n",
       "       'human resources  -  human resources', 'manager  -  sales',\n",
       "       'sales representative  -  sales', 'manager  -  human resources'],\n",
       "      dtype=object)"
      ]
     },
     "execution_count": 54,
     "metadata": {},
     "output_type": "execute_result"
    }
   ],
   "source": [
    "df_limpio['roledepartament'].unique()"
   ]
  },
  {
   "cell_type": "code",
   "execution_count": 55,
   "id": "f795f130",
   "metadata": {},
   "outputs": [
    {
     "data": {
      "text/plain": [
       "array([ True, False])"
      ]
     },
     "execution_count": 55,
     "metadata": {},
     "output_type": "execute_result"
    }
   ],
   "source": [
    "df_limpio['remotework'].unique()"
   ]
  },
  {
   "cell_type": "code",
   "execution_count": 52,
   "id": "1e55f59e",
   "metadata": {},
   "outputs": [],
   "source": [
    "mapa_booleano = {\n",
    "    'Yes': True, '1': True, 1: True, 'True': True, True: True,\n",
    "    'False': False, '0': False, 0: False, 'No': False, False: False\n",
    "}\n"
   ]
  },
  {
   "cell_type": "code",
   "execution_count": 53,
   "id": "b47ed948",
   "metadata": {},
   "outputs": [],
   "source": [
    "df_limpio['remotework'] = df_limpio['remotework'].map(mapa_booleano).astype(bool)"
   ]
  },
  {
   "cell_type": "code",
   "execution_count": 56,
   "id": "b338655e",
   "metadata": {},
   "outputs": [
    {
     "name": "stdout",
     "output_type": "stream",
     "text": [
      "<class 'pandas.core.frame.DataFrame'>\n",
      "Index: 1678 entries, 0 to 1677\n",
      "Data columns (total 36 columns):\n",
      " #   Column                    Non-Null Count  Dtype  \n",
      "---  ------                    --------------  -----  \n",
      " 0   age                       1665 non-null   float64\n",
      " 1   attrition                 1678 non-null   object \n",
      " 2   businesstravel            877 non-null    object \n",
      " 3   dailyrate                 1678 non-null   float64\n",
      " 4   department                312 non-null    object \n",
      " 5   distancefromhome          1678 non-null   int64  \n",
      " 6   education                 1678 non-null   int64  \n",
      " 7   educationfield            904 non-null    object \n",
      " 8   employeenumber            1678 non-null   int64  \n",
      " 9   environmentsatisfaction   1678 non-null   int64  \n",
      " 10  gender                    1678 non-null   object \n",
      " 11  jobinvolvement            1678 non-null   int64  \n",
      " 12  joblevel                  1678 non-null   int64  \n",
      " 13  jobrole                   1678 non-null   object \n",
      " 14  jobsatisfaction           1678 non-null   int64  \n",
      " 15  maritalstatus             1003 non-null   object \n",
      " 16  monthlyincome_$           1189 non-null   float64\n",
      " 17  monthlyrate_$             1678 non-null   float64\n",
      " 18  numcompaniesworked        1678 non-null   int64  \n",
      " 19  overtime                  1678 non-null   object \n",
      " 20  percentsalaryhike         1678 non-null   int64  \n",
      " 21  performancerating         0 non-null      float64\n",
      " 22  relationshipsatisfaction  1678 non-null   int64  \n",
      " 23  standardhours             1678 non-null   object \n",
      " 24  stockoptionlevel          1678 non-null   int64  \n",
      " 25  trainingtimeslastyear     1678 non-null   int64  \n",
      " 26  worklifebalance           0 non-null      float64\n",
      " 27  yearsatcompany            1678 non-null   int64  \n",
      " 28  yearsincurrentrole        35 non-null     float64\n",
      " 29  yearssincelastpromotion   1678 non-null   int64  \n",
      " 30  yearswithcurrmanager      1678 non-null   int64  \n",
      " 31  sameasmonthlyincome       1189 non-null   object \n",
      " 32  datebirth                 1678 non-null   int64  \n",
      " 33  salary                    1393 non-null   float64\n",
      " 34  roledepartament           312 non-null    object \n",
      " 35  remotework                1678 non-null   bool   \n",
      "dtypes: bool(1), float64(8), int64(16), object(11)\n",
      "memory usage: 473.6+ KB\n"
     ]
    }
   ],
   "source": [
    "df_limpio.info()"
   ]
  }
 ],
 "metadata": {
  "kernelspec": {
   "display_name": "base",
   "language": "python",
   "name": "python3"
  },
  "language_info": {
   "codemirror_mode": {
    "name": "ipython",
    "version": 3
   },
   "file_extension": ".py",
   "mimetype": "text/x-python",
   "name": "python",
   "nbconvert_exporter": "python",
   "pygments_lexer": "ipython3",
   "version": "3.12.7"
  }
 },
 "nbformat": 4,
 "nbformat_minor": 5
}
