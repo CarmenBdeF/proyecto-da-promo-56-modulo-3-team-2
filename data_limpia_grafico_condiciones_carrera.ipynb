{
 "cells": [
  {
   "cell_type": "code",
   "execution_count": 2,
   "id": "841a995b",
   "metadata": {},
   "outputs": [],
   "source": [
    "#IMPORTANDO LIBRERIAS NECESARIAS\n",
    "import numpy as np\n",
    "import pandas as pd\n",
    "pd.set_option('display.max_columns', None)"
   ]
  },
  {
   "cell_type": "code",
   "execution_count": 5,
   "id": "29cd46fa",
   "metadata": {},
   "outputs": [
    {
     "data": {
      "text/plain": [
       "Index(['attrition', 'businesstravel', 'dailyrate', 'department',\n",
       "       'distancefromhome', 'education', 'educationfield', 'employeenumber',\n",
       "       'environmentsatisfaction', 'gender', 'jobinvolvement', 'joblevel',\n",
       "       'jobrole', 'jobsatisfaction', 'maritalstatus', 'monthlyincome_$',\n",
       "       'monthlyrate_$', 'numcompaniesworked', 'overtime', 'percentsalaryhike',\n",
       "       'performancerating', 'relationshipsatisfaction', 'standardhours',\n",
       "       'stockoptionlevel', 'trainingtimeslastyear', 'worklifebalance',\n",
       "       'yearsatcompany', 'yearsincurrentrole', 'yearssincelastpromotion',\n",
       "       'yearswithcurrmanager', 'datebirth', 'salary', 'roledepartament',\n",
       "       'remotework'],\n",
       "      dtype='object')"
      ]
     },
     "execution_count": 5,
     "metadata": {},
     "output_type": "execute_result"
    }
   ],
   "source": [
    "df = pd.read_csv(\"df_limpo_final.csv\", index_col=0)\n",
    "df.columns"
   ]
  },
  {
   "cell_type": "markdown",
   "id": "675e1397",
   "metadata": {},
   "source": [
    "| Gráfico         | Tipo de variable           | Nº de variables | Uso típico                                                  | Función Seaborn / Matplotlib     |\n",
    "|----------------|----------------------------|------------------|--------------------------------------------------------------|----------------------------------|\n",
    "| **Histograma** | Numérica (cuantitativa)    | Univariada       | Distribución de frecuencia de una variable numérica          | `sns.histplot()`                 |\n",
    "| **Countplot**  | Categórica                 | Univariada       | Conteo de ocurrencias por categoría                          | `sns.countplot()`                |\n",
    "| **Barplot**    | Categórica + Numérica      | Bivariada        | Comparar medias (o sumas) de una variable numérica por grupo | `sns.barplot()`                  |\n",
    "| **Boxplot**    | Numérica + Categórica      | Bivariada        | Distribución, mediana y valores atípicos por categoría       | `sns.boxplot()`                  |\n",
    "| **Scatterplot**| Numérica + Numérica        | Bivariada        | Relación entre dos variables numéricas (correlación)         | `sns.scatterplot()`              |\n",
    "| **Gráfico de Tarta** | Categórica            | Univariada       | Proporción relativa entre categorías                        | `plt.pie()` (con Matplotlib)     |"
   ]
  },
  {
   "cell_type": "markdown",
   "id": "90fbbf57",
   "metadata": {},
   "source": [
    "### Utilizar el contenido aprendido sobre gráficos (Seaborn/Matplotib) para comparar las columnas con enfoque en condiciones de carrera \n"
   ]
  },
  {
   "cell_type": "markdown",
   "id": "4e29dc34",
   "metadata": {},
   "source": [
    "### 📊 Lo que queremos saber?\n",
    "\n",
    "- Uso: \n",
    "\n",
    "tipo de variable: \n",
    "\n",
    "numero de variables:\n",
    "\n",
    "grafico: \n",
    "\n",
    "funcion: \n",
    "\n",
    "------------------------------------------------------\n",
    "\n",
    "- Uso: \n",
    "\n",
    "tipo de variable: \n",
    "\n",
    "numero de variables:\n",
    "\n",
    "grafico: \n",
    "\n",
    "funcion: \n",
    "\n",
    "------------------------------------------------------\n",
    "\n",
    "- Uso: \n",
    "\n",
    "tipo de variable: \n",
    "\n",
    "numero de variables:\n",
    "\n",
    "grafico: \n",
    "\n",
    "funcion: \n",
    "\n",
    "------------------------------------------------------\n",
    "\n",
    "- Uso: \n",
    "\n",
    "tipo de variable: \n",
    "\n",
    "numero de variables:\n",
    "\n",
    "grafico: \n",
    "\n",
    "funcion: \n",
    "\n",
    "------------------------------------------------------\n",
    "\n",
    "- Uso: \n",
    "\n",
    "tipo de variable: \n",
    "\n",
    "numero de variables:\n",
    "\n",
    "grafico: \n",
    "\n",
    "funcion: \n",
    "\n",
    "------------------------------------------------------"
   ]
  }
 ],
 "metadata": {
  "kernelspec": {
   "display_name": "Python 3",
   "language": "python",
   "name": "python3"
  },
  "language_info": {
   "codemirror_mode": {
    "name": "ipython",
    "version": 3
   },
   "file_extension": ".py",
   "mimetype": "text/x-python",
   "name": "python",
   "nbconvert_exporter": "python",
   "pygments_lexer": "ipython3",
   "version": "3.13.3"
  }
 },
 "nbformat": 4,
 "nbformat_minor": 5
}
