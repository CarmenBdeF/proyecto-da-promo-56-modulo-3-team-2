{
 "cells": [
  {
   "cell_type": "markdown",
   "id": "675e1397",
   "metadata": {},
   "source": [
    "| Gráfico         | Tipo de variable           | Nº de variables | Uso típico                                                  | Función Seaborn / Matplotlib     |\n",
    "|----------------|----------------------------|------------------|--------------------------------------------------------------|----------------------------------|\n",
    "| **Histograma** | Numérica (cuantitativa)    | Univariada       | Distribución de frecuencia de una variable numérica          | `sns.histplot()`                 |\n",
    "| **Countplot**  | Categórica                 | Univariada       | Conteo de ocurrencias por categoría                          | `sns.countplot()`                |\n",
    "| **Barplot**    | Categórica + Numérica      | Bivariada        | Comparar medias (o sumas) de una variable numérica por grupo | `sns.barplot()`                  |\n",
    "| **Boxplot**    | Numérica + Categórica      | Bivariada        | Distribución, mediana y valores atípicos por categoría       | `sns.boxplot()`                  |\n",
    "| **Scatterplot**| Numérica + Numérica        | Bivariada        | Relación entre dos variables numéricas (correlación)         | `sns.scatterplot()`              |\n",
    "| **Gráfico de Tarta** | Categórica            | Univariada       | Proporción relativa entre categorías                        | `plt.pie()` (con Matplotlib)     |"
   ]
  },
  {
   "cell_type": "markdown",
   "id": "90fbbf57",
   "metadata": {},
   "source": [
    "### Utilizar el contenido aprendido sobre gráficos (Seaborn/Matplotib) para comparar las columnas con enfoque en condiciones de carrera \n"
   ]
  },
  {
   "cell_type": "markdown",
   "id": "4e29dc34",
   "metadata": {},
   "source": [
    "### 📊 Lo que queremos saber?\n",
    "\n",
    "- Uso: \n",
    "\n",
    "tipo de variable: \n",
    "\n",
    "numero de variables:\n",
    "\n",
    "grafico: \n",
    "\n",
    "funcion: \n",
    "\n",
    "------------------------------------------------------\n",
    "\n",
    "- Uso: \n",
    "\n",
    "tipo de variable: \n",
    "\n",
    "numero de variables:\n",
    "\n",
    "grafico: \n",
    "\n",
    "funcion: \n",
    "\n",
    "------------------------------------------------------\n",
    "\n",
    "- Uso: \n",
    "\n",
    "tipo de variable: \n",
    "\n",
    "numero de variables:\n",
    "\n",
    "grafico: \n",
    "\n",
    "funcion: \n",
    "\n",
    "------------------------------------------------------\n",
    "\n",
    "- Uso: \n",
    "\n",
    "tipo de variable: \n",
    "\n",
    "numero de variables:\n",
    "\n",
    "grafico: \n",
    "\n",
    "funcion: \n",
    "\n",
    "------------------------------------------------------\n",
    "\n",
    "- Uso: \n",
    "\n",
    "tipo de variable: \n",
    "\n",
    "numero de variables:\n",
    "\n",
    "grafico: \n",
    "\n",
    "funcion: \n",
    "\n",
    "------------------------------------------------------"
   ]
  }
 ],
 "metadata": {
  "kernelspec": {
   "display_name": "Python 3",
   "language": "python",
   "name": "python3"
  },
  "language_info": {
   "name": "python",
   "version": "3.13.3"
  }
 },
 "nbformat": 4,
 "nbformat_minor": 5
}
