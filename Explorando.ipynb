{
 "cells": [
  {
   "cell_type": "code",
   "execution_count": 3,
   "id": "c89a7f5a",
   "metadata": {},
   "outputs": [],
   "source": [
    "import pandas as pd\n",
    "\n",
    "import numpy as np"
   ]
  },
  {
   "cell_type": "code",
   "execution_count": 4,
   "id": "2d92fc5b",
   "metadata": {},
   "outputs": [],
   "source": [
    "df_datos_abc=pd.read_csv(\"hr_raw_data.csv\",index_col=0)"
   ]
  },
  {
   "cell_type": "markdown",
   "id": "d9957f8a",
   "metadata": {},
   "source": [
    "Nuestra misión es identificar factores clave que influyen en la satisfacción en el trabajo y en la retención de empleados\n",
    "\n",
    "Comentarios sobre el csv:\n",
    "- 1678 filas\n",
    "- 41 columnas\n",
    "- size: 68798\n",
    "- employee number PK\n",
    "- NaN = Null\n",
    "\n",
    "Analise sobre el csv:\n",
    "- Investigar columna 'attrition'\n",
    "- Investigar columna 'dailyrate'\n",
    "- Investigar columna 'employeecount'\n",
    "- Investigar columna 'same as monthy income'\n",
    "- Distance from Home: cual es el rango?\n",
    "- Education: a que nivel equipara?\n",
    "- Analizar la columna years at company con la columna attrition (las dos tienen temas en comum)\n",
    "- Calcular años en el role actual (years in current role) - Calcular los years at company & years since last promotion \n",
    "- Years since last promotion and years with current manager (investigar promociones internas para mandos superiores - current manager cambio o no)\n"
   ]
  },
  {
   "cell_type": "code",
   "execution_count": 5,
   "id": "d8756f3e",
   "metadata": {},
   "outputs": [
    {
     "data": {
      "text/html": [
       "<div>\n",
       "<style scoped>\n",
       "    .dataframe tbody tr th:only-of-type {\n",
       "        vertical-align: middle;\n",
       "    }\n",
       "\n",
       "    .dataframe tbody tr th {\n",
       "        vertical-align: top;\n",
       "    }\n",
       "\n",
       "    .dataframe thead th {\n",
       "        text-align: right;\n",
       "    }\n",
       "</style>\n",
       "<table border=\"1\" class=\"dataframe\">\n",
       "  <thead>\n",
       "    <tr style=\"text-align: right;\">\n",
       "      <th></th>\n",
       "      <th>age</th>\n",
       "      <th>attrition</th>\n",
       "      <th>businesstravel</th>\n",
       "      <th>dailyrate</th>\n",
       "      <th>department</th>\n",
       "      <th>distancefromhome</th>\n",
       "      <th>education</th>\n",
       "      <th>educationfield</th>\n",
       "      <th>employeecount</th>\n",
       "      <th>employeenumber</th>\n",
       "      <th>...</th>\n",
       "      <th>yearsatcompany</th>\n",
       "      <th>yearsincurrentrole</th>\n",
       "      <th>yearssincelastpromotion</th>\n",
       "      <th>yearswithcurrmanager</th>\n",
       "      <th>sameasmonthlyincome</th>\n",
       "      <th>datebirth</th>\n",
       "      <th>salary</th>\n",
       "      <th>roledepartament</th>\n",
       "      <th>numberchildren</th>\n",
       "      <th>remotework</th>\n",
       "    </tr>\n",
       "  </thead>\n",
       "  <tbody>\n",
       "    <tr>\n",
       "      <th>0</th>\n",
       "      <td>51</td>\n",
       "      <td>No</td>\n",
       "      <td>NaN</td>\n",
       "      <td>2015.722222</td>\n",
       "      <td>NaN</td>\n",
       "      <td>6</td>\n",
       "      <td>3</td>\n",
       "      <td>NaN</td>\n",
       "      <td>1</td>\n",
       "      <td>1</td>\n",
       "      <td>...</td>\n",
       "      <td>20</td>\n",
       "      <td>NaN</td>\n",
       "      <td>15</td>\n",
       "      <td>15</td>\n",
       "      <td>16280,83$</td>\n",
       "      <td>1972</td>\n",
       "      <td>195370,00$</td>\n",
       "      <td>NaN</td>\n",
       "      <td>NaN</td>\n",
       "      <td>Yes</td>\n",
       "    </tr>\n",
       "    <tr>\n",
       "      <th>1</th>\n",
       "      <td>52</td>\n",
       "      <td>No</td>\n",
       "      <td>NaN</td>\n",
       "      <td>2063.388889</td>\n",
       "      <td>NaN</td>\n",
       "      <td>1</td>\n",
       "      <td>4</td>\n",
       "      <td>Life Sciences</td>\n",
       "      <td>1</td>\n",
       "      <td>2</td>\n",
       "      <td>...</td>\n",
       "      <td>33</td>\n",
       "      <td>NaN</td>\n",
       "      <td>11</td>\n",
       "      <td>9</td>\n",
       "      <td>NaN</td>\n",
       "      <td>1971</td>\n",
       "      <td>199990,00$</td>\n",
       "      <td>NaN</td>\n",
       "      <td>NaN</td>\n",
       "      <td>1</td>\n",
       "    </tr>\n",
       "    <tr>\n",
       "      <th>2</th>\n",
       "      <td>42</td>\n",
       "      <td>No</td>\n",
       "      <td>travel_rarely</td>\n",
       "      <td>1984.253968</td>\n",
       "      <td>Research &amp; Development</td>\n",
       "      <td>4</td>\n",
       "      <td>2</td>\n",
       "      <td>Technical Degree</td>\n",
       "      <td>1</td>\n",
       "      <td>3</td>\n",
       "      <td>...</td>\n",
       "      <td>22</td>\n",
       "      <td>NaN</td>\n",
       "      <td>11</td>\n",
       "      <td>15</td>\n",
       "      <td>NaN</td>\n",
       "      <td>1981</td>\n",
       "      <td>192320,00$</td>\n",
       "      <td>ManaGER  -  Research &amp; Development</td>\n",
       "      <td>NaN</td>\n",
       "      <td>1</td>\n",
       "    </tr>\n",
       "    <tr>\n",
       "      <th>3</th>\n",
       "      <td>47</td>\n",
       "      <td>No</td>\n",
       "      <td>travel_rarely</td>\n",
       "      <td>1771.404762</td>\n",
       "      <td>NaN</td>\n",
       "      <td>2</td>\n",
       "      <td>4</td>\n",
       "      <td>Medical</td>\n",
       "      <td>1</td>\n",
       "      <td>4</td>\n",
       "      <td>...</td>\n",
       "      <td>20</td>\n",
       "      <td>NaN</td>\n",
       "      <td>5</td>\n",
       "      <td>6</td>\n",
       "      <td>14307,50$</td>\n",
       "      <td>1976</td>\n",
       "      <td>171690,00$</td>\n",
       "      <td>NaN</td>\n",
       "      <td>NaN</td>\n",
       "      <td>False</td>\n",
       "    </tr>\n",
       "    <tr>\n",
       "      <th>4</th>\n",
       "      <td>46</td>\n",
       "      <td>No</td>\n",
       "      <td>NaN</td>\n",
       "      <td>1582.771346</td>\n",
       "      <td>NaN</td>\n",
       "      <td>3</td>\n",
       "      <td>3</td>\n",
       "      <td>Technical Degree</td>\n",
       "      <td>1</td>\n",
       "      <td>5</td>\n",
       "      <td>...</td>\n",
       "      <td>19</td>\n",
       "      <td>NaN</td>\n",
       "      <td>2</td>\n",
       "      <td>8</td>\n",
       "      <td>12783,92$</td>\n",
       "      <td>1977</td>\n",
       "      <td>NaN</td>\n",
       "      <td>NaN</td>\n",
       "      <td>NaN</td>\n",
       "      <td>0</td>\n",
       "    </tr>\n",
       "  </tbody>\n",
       "</table>\n",
       "<p>5 rows × 41 columns</p>\n",
       "</div>"
      ],
      "text/plain": [
       "  age attrition businesstravel    dailyrate                department  \\\n",
       "0  51        No            NaN  2015.722222                       NaN   \n",
       "1  52        No            NaN  2063.388889                       NaN   \n",
       "2  42        No  travel_rarely  1984.253968   Research & Development    \n",
       "3  47        No  travel_rarely  1771.404762                       NaN   \n",
       "4  46        No            NaN  1582.771346                       NaN   \n",
       "\n",
       "   distancefromhome  education    educationfield  employeecount  \\\n",
       "0                 6          3               NaN              1   \n",
       "1                 1          4     Life Sciences              1   \n",
       "2                 4          2  Technical Degree              1   \n",
       "3                 2          4           Medical              1   \n",
       "4                 3          3  Technical Degree              1   \n",
       "\n",
       "   employeenumber  ...  yearsatcompany  yearsincurrentrole  \\\n",
       "0               1  ...              20                 NaN   \n",
       "1               2  ...              33                 NaN   \n",
       "2               3  ...              22                 NaN   \n",
       "3               4  ...              20                 NaN   \n",
       "4               5  ...              19                 NaN   \n",
       "\n",
       "   yearssincelastpromotion  yearswithcurrmanager  sameasmonthlyincome  \\\n",
       "0                       15                    15            16280,83$   \n",
       "1                       11                     9                  NaN   \n",
       "2                       11                    15                  NaN   \n",
       "3                        5                     6            14307,50$   \n",
       "4                        2                     8            12783,92$   \n",
       "\n",
       "  datebirth      salary                       roledepartament numberchildren  \\\n",
       "0      1972  195370,00$                                   NaN            NaN   \n",
       "1      1971  199990,00$                                   NaN            NaN   \n",
       "2      1981  192320,00$   ManaGER  -  Research & Development             NaN   \n",
       "3      1976  171690,00$                                   NaN            NaN   \n",
       "4      1977         NaN                                   NaN            NaN   \n",
       "\n",
       "  remotework  \n",
       "0        Yes  \n",
       "1          1  \n",
       "2          1  \n",
       "3      False  \n",
       "4          0  \n",
       "\n",
       "[5 rows x 41 columns]"
      ]
     },
     "execution_count": 5,
     "metadata": {},
     "output_type": "execute_result"
    }
   ],
   "source": [
    "df_datos_abc.head()"
   ]
  },
  {
   "cell_type": "code",
   "execution_count": null,
   "id": "a517293a",
   "metadata": {},
   "outputs": [
    {
     "data": {
      "text/plain": [
       "(1678, 41)"
      ]
     },
     "execution_count": 7,
     "metadata": {},
     "output_type": "execute_result"
    }
   ],
   "source": [
    "df_datos_abc.shape # filas #columnas"
   ]
  },
  {
   "cell_type": "code",
   "execution_count": 9,
   "id": "461ccdaa",
   "metadata": {},
   "outputs": [
    {
     "data": {
      "text/plain": [
       "Index(['age', 'attrition', 'businesstravel', 'dailyrate', 'department',\n",
       "       'distancefromhome', 'education', 'educationfield', 'employeecount',\n",
       "       'employeenumber', 'environmentsatisfaction', 'gender', 'hourlyrate',\n",
       "       'jobinvolvement', 'joblevel', 'jobrole', 'jobsatisfaction',\n",
       "       'maritalstatus', 'monthlyincome', 'monthlyrate', 'numcompaniesworked',\n",
       "       'over18', 'overtime', 'percentsalaryhike', 'performancerating',\n",
       "       'relationshipsatisfaction', 'standardhours', 'stockoptionlevel',\n",
       "       'totalworkingyears', 'trainingtimeslastyear', 'worklifebalance',\n",
       "       'yearsatcompany', 'yearsincurrentrole', 'yearssincelastpromotion',\n",
       "       'yearswithcurrmanager', 'sameasmonthlyincome', 'datebirth', 'salary',\n",
       "       'roledepartament', 'numberchildren', 'remotework'],\n",
       "      dtype='object')"
      ]
     },
     "execution_count": 9,
     "metadata": {},
     "output_type": "execute_result"
    }
   ],
   "source": [
    "df_datos_abc.columns"
   ]
  },
  {
   "cell_type": "code",
   "execution_count": 10,
   "id": "2d062c64",
   "metadata": {},
   "outputs": [
    {
     "data": {
      "text/plain": [
       "68798"
      ]
     },
     "execution_count": 10,
     "metadata": {},
     "output_type": "execute_result"
    }
   ],
   "source": [
    "df_datos_abc.size"
   ]
  },
  {
   "cell_type": "code",
   "execution_count": 11,
   "id": "d70e116d",
   "metadata": {},
   "outputs": [
    {
     "data": {
      "text/plain": [
       "age                          object\n",
       "attrition                    object\n",
       "businesstravel               object\n",
       "dailyrate                   float64\n",
       "department                   object\n",
       "distancefromhome              int64\n",
       "education                     int64\n",
       "educationfield               object\n",
       "employeecount                 int64\n",
       "employeenumber                int64\n",
       "environmentsatisfaction       int64\n",
       "gender                        int64\n",
       "hourlyrate                  float64\n",
       "jobinvolvement                int64\n",
       "joblevel                      int64\n",
       "jobrole                      object\n",
       "jobsatisfaction               int64\n",
       "maritalstatus                object\n",
       "monthlyincome                object\n",
       "monthlyrate                  object\n",
       "numcompaniesworked            int64\n",
       "over18                       object\n",
       "overtime                     object\n",
       "percentsalaryhike             int64\n",
       "performancerating            object\n",
       "relationshipsatisfaction      int64\n",
       "standardhours                object\n",
       "stockoptionlevel              int64\n",
       "totalworkingyears            object\n",
       "trainingtimeslastyear         int64\n",
       "worklifebalance              object\n",
       "yearsatcompany                int64\n",
       "yearsincurrentrole           object\n",
       "yearssincelastpromotion       int64\n",
       "yearswithcurrmanager          int64\n",
       "sameasmonthlyincome          object\n",
       "datebirth                     int64\n",
       "salary                       object\n",
       "roledepartament              object\n",
       "numberchildren              float64\n",
       "remotework                   object\n",
       "dtype: object"
      ]
     },
     "execution_count": 11,
     "metadata": {},
     "output_type": "execute_result"
    }
   ],
   "source": [
    "df_datos_abc.dtypes"
   ]
  },
  {
   "cell_type": "code",
   "execution_count": null,
   "id": "0fe8e176",
   "metadata": {},
   "outputs": [],
   "source": []
  }
 ],
 "metadata": {
  "kernelspec": {
   "display_name": "Python 3",
   "language": "python",
   "name": "python3"
  },
  "language_info": {
   "codemirror_mode": {
    "name": "ipython",
    "version": 3
   },
   "file_extension": ".py",
   "mimetype": "text/x-python",
   "name": "python",
   "nbconvert_exporter": "python",
   "pygments_lexer": "ipython3",
   "version": "3.13.3"
  }
 },
 "nbformat": 4,
 "nbformat_minor": 5
}
